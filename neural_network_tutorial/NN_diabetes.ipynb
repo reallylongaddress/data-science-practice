{
 "cells": [
  {
   "cell_type": "code",
   "execution_count": 1,
   "id": "c1bfddb2-fa51-4eeb-9508-9081eb76be8c",
   "metadata": {},
   "outputs": [],
   "source": [
    "#https://machinelearningmastery.com/tutorial-first-neural-network-python-keras/\n",
    "#https://raw.githubusercontent.com/jbrownlee/Datasets/master/pima-indians-diabetes.names"
   ]
  },
  {
   "cell_type": "code",
   "execution_count": 2,
   "id": "733e18a8-6fd9-410b-aed2-d96ca57f29b6",
   "metadata": {},
   "outputs": [],
   "source": [
    "# first neural network with keras tutorial\n",
    "import numpy as np\n",
    "import pandas as pd\n",
    "\n",
    "from tensorflow.keras.models import Sequential\n",
    "from tensorflow.keras.layers import Dense\n"
   ]
  },
  {
   "cell_type": "code",
   "execution_count": 3,
   "id": "d2771ce5-be8e-473d-a693-0263ea7a9af9",
   "metadata": {},
   "outputs": [],
   "source": [
    "data = pd.read_csv('https://raw.githubusercontent.com/jbrownlee/Datasets/master/pima-indians-diabetes.data.csv', \n",
    "                   header=None, \n",
    "                   names=['times_pregnant', 'plasma_glucose', 'diastolic_bp', 'triceps_thickness', \n",
    "                          '2_hour_serum', 'bmi', 'pedigree_fn', 'age', 'target']\n",
    "                  )"
   ]
  },
  {
   "cell_type": "code",
   "execution_count": 4,
   "id": "aec56da9-53bc-4e81-8f98-d3eabf777aa0",
   "metadata": {},
   "outputs": [
    {
     "data": {
      "text/html": [
       "<div>\n",
       "<style scoped>\n",
       "    .dataframe tbody tr th:only-of-type {\n",
       "        vertical-align: middle;\n",
       "    }\n",
       "\n",
       "    .dataframe tbody tr th {\n",
       "        vertical-align: top;\n",
       "    }\n",
       "\n",
       "    .dataframe thead th {\n",
       "        text-align: right;\n",
       "    }\n",
       "</style>\n",
       "<table border=\"1\" class=\"dataframe\">\n",
       "  <thead>\n",
       "    <tr style=\"text-align: right;\">\n",
       "      <th></th>\n",
       "      <th>times_pregnant</th>\n",
       "      <th>plasma_glucose</th>\n",
       "      <th>diastolic_bp</th>\n",
       "      <th>triceps_thickness</th>\n",
       "      <th>2_hour_serum</th>\n",
       "      <th>bmi</th>\n",
       "      <th>pedigree_fn</th>\n",
       "      <th>age</th>\n",
       "      <th>target</th>\n",
       "    </tr>\n",
       "  </thead>\n",
       "  <tbody>\n",
       "    <tr>\n",
       "      <th>0</th>\n",
       "      <td>6</td>\n",
       "      <td>148</td>\n",
       "      <td>72</td>\n",
       "      <td>35</td>\n",
       "      <td>0</td>\n",
       "      <td>33.6</td>\n",
       "      <td>0.627</td>\n",
       "      <td>50</td>\n",
       "      <td>1</td>\n",
       "    </tr>\n",
       "    <tr>\n",
       "      <th>1</th>\n",
       "      <td>1</td>\n",
       "      <td>85</td>\n",
       "      <td>66</td>\n",
       "      <td>29</td>\n",
       "      <td>0</td>\n",
       "      <td>26.6</td>\n",
       "      <td>0.351</td>\n",
       "      <td>31</td>\n",
       "      <td>0</td>\n",
       "    </tr>\n",
       "    <tr>\n",
       "      <th>2</th>\n",
       "      <td>8</td>\n",
       "      <td>183</td>\n",
       "      <td>64</td>\n",
       "      <td>0</td>\n",
       "      <td>0</td>\n",
       "      <td>23.3</td>\n",
       "      <td>0.672</td>\n",
       "      <td>32</td>\n",
       "      <td>1</td>\n",
       "    </tr>\n",
       "    <tr>\n",
       "      <th>3</th>\n",
       "      <td>1</td>\n",
       "      <td>89</td>\n",
       "      <td>66</td>\n",
       "      <td>23</td>\n",
       "      <td>94</td>\n",
       "      <td>28.1</td>\n",
       "      <td>0.167</td>\n",
       "      <td>21</td>\n",
       "      <td>0</td>\n",
       "    </tr>\n",
       "    <tr>\n",
       "      <th>4</th>\n",
       "      <td>0</td>\n",
       "      <td>137</td>\n",
       "      <td>40</td>\n",
       "      <td>35</td>\n",
       "      <td>168</td>\n",
       "      <td>43.1</td>\n",
       "      <td>2.288</td>\n",
       "      <td>33</td>\n",
       "      <td>1</td>\n",
       "    </tr>\n",
       "  </tbody>\n",
       "</table>\n",
       "</div>"
      ],
      "text/plain": [
       "   times_pregnant  plasma_glucose  diastolic_bp  triceps_thickness  \\\n",
       "0               6             148            72                 35   \n",
       "1               1              85            66                 29   \n",
       "2               8             183            64                  0   \n",
       "3               1              89            66                 23   \n",
       "4               0             137            40                 35   \n",
       "\n",
       "   2_hour_serum   bmi  pedigree_fn  age  target  \n",
       "0             0  33.6        0.627   50       1  \n",
       "1             0  26.6        0.351   31       0  \n",
       "2             0  23.3        0.672   32       1  \n",
       "3            94  28.1        0.167   21       0  \n",
       "4           168  43.1        2.288   33       1  "
      ]
     },
     "execution_count": 4,
     "metadata": {},
     "output_type": "execute_result"
    }
   ],
   "source": [
    "data.head()"
   ]
  },
  {
   "cell_type": "code",
   "execution_count": 5,
   "id": "65c58277-eb41-466f-9d4b-ee1e3975e13b",
   "metadata": {},
   "outputs": [
    {
     "data": {
      "text/plain": [
       "(768, 9)"
      ]
     },
     "execution_count": 5,
     "metadata": {},
     "output_type": "execute_result"
    }
   ],
   "source": [
    "data.shape"
   ]
  },
  {
   "cell_type": "code",
   "execution_count": 6,
   "id": "3218e1a1-2ed6-4c9b-8494-67d03f6bf055",
   "metadata": {},
   "outputs": [
    {
     "data": {
      "text/plain": [
       "times_pregnant       0\n",
       "plasma_glucose       0\n",
       "diastolic_bp         0\n",
       "triceps_thickness    0\n",
       "2_hour_serum         0\n",
       "bmi                  0\n",
       "pedigree_fn          0\n",
       "age                  0\n",
       "target               0\n",
       "dtype: int64"
      ]
     },
     "execution_count": 6,
     "metadata": {},
     "output_type": "execute_result"
    }
   ],
   "source": [
    "data.isnull().sum()"
   ]
  },
  {
   "cell_type": "code",
   "execution_count": 7,
   "id": "646389ce-e5f6-4420-9fbc-7ad5479055c9",
   "metadata": {},
   "outputs": [
    {
     "data": {
      "text/plain": [
       "((768, 8), (768,))"
      ]
     },
     "execution_count": 7,
     "metadata": {},
     "output_type": "execute_result"
    }
   ],
   "source": [
    "X = data.drop(columns='target')\n",
    "y = data['target']\n",
    "\n",
    "X.shape, y.shape\n"
   ]
  },
  {
   "cell_type": "code",
   "execution_count": 8,
   "id": "559e993c-8976-4d83-bf2f-8550c83459d6",
   "metadata": {},
   "outputs": [
    {
     "data": {
      "text/plain": [
       "0    0.651042\n",
       "1    0.348958\n",
       "Name: target, dtype: float64"
      ]
     },
     "execution_count": 8,
     "metadata": {},
     "output_type": "execute_result"
    }
   ],
   "source": [
    "y.value_counts(normalize=True)"
   ]
  },
  {
   "cell_type": "code",
   "execution_count": 9,
   "id": "1501750b-3732-4b15-b36b-d796e8b02ecc",
   "metadata": {},
   "outputs": [
    {
     "name": "stderr",
     "output_type": "stream",
     "text": [
      "2022-07-20 10:09:42.431014: I tensorflow/core/platform/cpu_feature_guard.cc:142] This TensorFlow binary is optimized with oneAPI Deep Neural Network Library (oneDNN) to use the following CPU instructions in performance-critical operations:  SSE4.2\n",
      "To enable them in other operations, rebuild TensorFlow with the appropriate compiler flags.\n"
     ]
    }
   ],
   "source": [
    "# define the keras model\n",
    "model = Sequential()\n",
    "model.add(Dense(12, input_shape=(8,), activation='relu'))\n",
    "model.add(Dense(8, activation='relu'))\n",
    "model.add(Dense(1, activation='sigmoid'))"
   ]
  },
  {
   "cell_type": "code",
   "execution_count": 10,
   "id": "b62af543-5853-43fb-a09e-9570f23e75d4",
   "metadata": {},
   "outputs": [],
   "source": [
    "# compile the keras model\n",
    "model.compile(loss='binary_crossentropy', optimizer='adam', metrics=['accuracy'])\n"
   ]
  },
  {
   "cell_type": "code",
   "execution_count": 11,
   "id": "c0738e37-05f0-45f3-8c3f-23ff6e284229",
   "metadata": {},
   "outputs": [
    {
     "name": "stderr",
     "output_type": "stream",
     "text": [
      "2022-07-20 10:09:42.688714: I tensorflow/compiler/mlir/mlir_graph_optimization_pass.cc:176] None of the MLIR Optimization Passes are enabled (registered 2)\n"
     ]
    }
   ],
   "source": [
    "# fit the keras model on the dataset\n",
    "history = model.fit(X, y, epochs=500, batch_size=10, verbose=0)"
   ]
  },
  {
   "cell_type": "code",
   "execution_count": 12,
   "id": "f10fee32-cfd8-41a3-9a2e-cd3c707d7b93",
   "metadata": {},
   "outputs": [
    {
     "name": "stdout",
     "output_type": "stream",
     "text": [
      "24/24 [==============================] - 0s 375us/step - loss: 0.4149 - accuracy: 0.7982\n",
      "Accuracy: 79.82\n"
     ]
    }
   ],
   "source": [
    "# evaluate the keras model\n",
    "_, accuracy = model.evaluate(X, y)\n",
    "print('Accuracy: %.2f' % (accuracy*100))"
   ]
  },
  {
   "cell_type": "code",
   "execution_count": 13,
   "id": "0bda7963-05c5-4631-9678-11bc774b015a",
   "metadata": {},
   "outputs": [],
   "source": [
    "# make class predictions with the model\n",
    "y_pred = (model.predict(X) > 0.5).astype(int)"
   ]
  },
  {
   "cell_type": "code",
   "execution_count": 14,
   "id": "c9edd27f-1f62-4532-9044-5026f0929f80",
   "metadata": {},
   "outputs": [
    {
     "name": "stdout",
     "output_type": "stream",
     "text": [
      "[6.0, 148.0, 72.0, 35.0, 0.0, 33.6, 0.627, 50.0] => 1 (expected 1)\n",
      "[1.0, 85.0, 66.0, 29.0, 0.0, 26.6, 0.351, 31.0] => 0 (expected 0)\n",
      "[8.0, 183.0, 64.0, 0.0, 0.0, 23.3, 0.672, 32.0] => 1 (expected 1)\n",
      "[1.0, 89.0, 66.0, 23.0, 94.0, 28.1, 0.167, 21.0] => 0 (expected 0)\n",
      "[0.0, 137.0, 40.0, 35.0, 168.0, 43.1, 2.288, 33.0] => 1 (expected 1)\n",
      "[5.0, 116.0, 74.0, 0.0, 0.0, 25.6, 0.201, 30.0] => 0 (expected 0)\n",
      "[3.0, 78.0, 50.0, 32.0, 88.0, 31.0, 0.248, 26.0] => 0 (expected 1)\n",
      "[10.0, 115.0, 0.0, 0.0, 0.0, 35.3, 0.134, 29.0] => 1 (expected 0)\n",
      "[2.0, 197.0, 70.0, 45.0, 543.0, 30.5, 0.158, 53.0] => 1 (expected 1)\n",
      "[8.0, 125.0, 96.0, 0.0, 0.0, 0.0, 0.232, 54.0] => 0 (expected 1)\n",
      "[4.0, 110.0, 92.0, 0.0, 0.0, 37.6, 0.191, 30.0] => 0 (expected 0)\n",
      "[10.0, 168.0, 74.0, 0.0, 0.0, 38.0, 0.537, 34.0] => 1 (expected 1)\n",
      "[10.0, 139.0, 80.0, 0.0, 0.0, 27.1, 1.441, 57.0] => 0 (expected 0)\n",
      "[1.0, 189.0, 60.0, 23.0, 846.0, 30.1, 0.398, 59.0] => 1 (expected 1)\n",
      "[5.0, 166.0, 72.0, 19.0, 175.0, 25.8, 0.587, 51.0] => 1 (expected 1)\n"
     ]
    }
   ],
   "source": [
    "for i in range(15):\n",
    "    print('%s => %d (expected %d)' % (X.iloc[i].tolist(), y_pred[i], y[i]))\n",
    "\n",
    "\n",
    "# print(y.shape)\n",
    "# print(y_pred.shape)\n",
    "# for y1, y2 in zip(y, y_pred):\n",
    "#     print(f'y1/y2: {y1}/{y2[0]}')"
   ]
  },
  {
   "cell_type": "markdown",
   "id": "2c37c52d-2e26-45b9-be94-4e8ac0270b75",
   "metadata": {},
   "source": [
    "# Post tutorial experimentation (tuning the model)"
   ]
  },
  {
   "cell_type": "code",
   "execution_count": null,
   "id": "e12ebb24-ff86-41b8-aa4c-787bfefe19a4",
   "metadata": {},
   "outputs": [],
   "source": []
  },
  {
   "cell_type": "code",
   "execution_count": null,
   "id": "36d721f8-01a5-4042-90fe-61c70b483909",
   "metadata": {},
   "outputs": [
    {
     "name": "stdout",
     "output_type": "stream",
     "text": [
      "24/24 [==============================] - 0s 496us/step - loss: 0.3029 - accuracy: 0.8646\n",
      "Accuracy: 86.46\n"
     ]
    }
   ],
   "source": [
    "from sklearn.preprocessing import StandardScaler\n",
    "\n",
    "X_scaled = StandardScaler().fit_transform(X)\n",
    "\n",
    "model2 = Sequential()\n",
    "model2.add(Dense(12, input_shape=(8,), activation='relu'))\n",
    "model2.add(Dense(8, activation='relu'))\n",
    "model2.add(Dense(1, activation='sigmoid'))\n",
    "\n",
    "model2.compile(loss='binary_crossentropy', optimizer='adam', metrics=['accuracy'])\n",
    "\n",
    "history = model2.fit(X_scaled, y, epochs=500, batch_size=10, verbose=0)\n",
    "\n",
    "# evaluate the keras model\n",
    "_, accuracy = model2.evaluate(X_scaled, y)\n",
    "print('Accuracy: %.2f' % (accuracy*100))"
   ]
  },
  {
   "cell_type": "code",
   "execution_count": null,
   "id": "323bb27f-94b8-4046-b44e-c930208d68b9",
   "metadata": {},
   "outputs": [
    {
     "data": {
      "text/html": [
       "<div>\n",
       "<style scoped>\n",
       "    .dataframe tbody tr th:only-of-type {\n",
       "        vertical-align: middle;\n",
       "    }\n",
       "\n",
       "    .dataframe tbody tr th {\n",
       "        vertical-align: top;\n",
       "    }\n",
       "\n",
       "    .dataframe thead th {\n",
       "        text-align: right;\n",
       "    }\n",
       "</style>\n",
       "<table border=\"1\" class=\"dataframe\">\n",
       "  <thead>\n",
       "    <tr style=\"text-align: right;\">\n",
       "      <th></th>\n",
       "      <th>0</th>\n",
       "      <th>1</th>\n",
       "      <th>2</th>\n",
       "      <th>3</th>\n",
       "      <th>4</th>\n",
       "      <th>5</th>\n",
       "      <th>6</th>\n",
       "      <th>7</th>\n",
       "    </tr>\n",
       "  </thead>\n",
       "  <tbody>\n",
       "    <tr>\n",
       "      <th>0</th>\n",
       "      <td>0.639947</td>\n",
       "      <td>0.848324</td>\n",
       "      <td>0.149641</td>\n",
       "      <td>0.907270</td>\n",
       "      <td>-0.692891</td>\n",
       "      <td>0.204013</td>\n",
       "      <td>0.468492</td>\n",
       "      <td>1.425995</td>\n",
       "    </tr>\n",
       "    <tr>\n",
       "      <th>1</th>\n",
       "      <td>-0.844885</td>\n",
       "      <td>-1.123396</td>\n",
       "      <td>-0.160546</td>\n",
       "      <td>0.530902</td>\n",
       "      <td>-0.692891</td>\n",
       "      <td>-0.684422</td>\n",
       "      <td>-0.365061</td>\n",
       "      <td>-0.190672</td>\n",
       "    </tr>\n",
       "    <tr>\n",
       "      <th>2</th>\n",
       "      <td>1.233880</td>\n",
       "      <td>1.943724</td>\n",
       "      <td>-0.263941</td>\n",
       "      <td>-1.288212</td>\n",
       "      <td>-0.692891</td>\n",
       "      <td>-1.103255</td>\n",
       "      <td>0.604397</td>\n",
       "      <td>-0.105584</td>\n",
       "    </tr>\n",
       "    <tr>\n",
       "      <th>3</th>\n",
       "      <td>-0.844885</td>\n",
       "      <td>-0.998208</td>\n",
       "      <td>-0.160546</td>\n",
       "      <td>0.154533</td>\n",
       "      <td>0.123302</td>\n",
       "      <td>-0.494043</td>\n",
       "      <td>-0.920763</td>\n",
       "      <td>-1.041549</td>\n",
       "    </tr>\n",
       "    <tr>\n",
       "      <th>4</th>\n",
       "      <td>-1.141852</td>\n",
       "      <td>0.504055</td>\n",
       "      <td>-1.504687</td>\n",
       "      <td>0.907270</td>\n",
       "      <td>0.765836</td>\n",
       "      <td>1.409746</td>\n",
       "      <td>5.484909</td>\n",
       "      <td>-0.020496</td>\n",
       "    </tr>\n",
       "  </tbody>\n",
       "</table>\n",
       "</div>"
      ],
      "text/plain": [
       "          0         1         2         3         4         5         6  \\\n",
       "0  0.639947  0.848324  0.149641  0.907270 -0.692891  0.204013  0.468492   \n",
       "1 -0.844885 -1.123396 -0.160546  0.530902 -0.692891 -0.684422 -0.365061   \n",
       "2  1.233880  1.943724 -0.263941 -1.288212 -0.692891 -1.103255  0.604397   \n",
       "3 -0.844885 -0.998208 -0.160546  0.154533  0.123302 -0.494043 -0.920763   \n",
       "4 -1.141852  0.504055 -1.504687  0.907270  0.765836  1.409746  5.484909   \n",
       "\n",
       "          7  \n",
       "0  1.425995  \n",
       "1 -0.190672  \n",
       "2 -0.105584  \n",
       "3 -1.041549  \n",
       "4 -0.020496  "
      ]
     },
     "execution_count": 16,
     "metadata": {},
     "output_type": "execute_result"
    }
   ],
   "source": [
    "pd.DataFrame(X_scaled).head()"
   ]
  },
  {
   "cell_type": "code",
   "execution_count": null,
   "id": "e2bfcd02-6426-49fd-9c80-af17d7637416",
   "metadata": {},
   "outputs": [
    {
     "data": {
      "text/html": [
       "<div>\n",
       "<style scoped>\n",
       "    .dataframe tbody tr th:only-of-type {\n",
       "        vertical-align: middle;\n",
       "    }\n",
       "\n",
       "    .dataframe tbody tr th {\n",
       "        vertical-align: top;\n",
       "    }\n",
       "\n",
       "    .dataframe thead th {\n",
       "        text-align: right;\n",
       "    }\n",
       "</style>\n",
       "<table border=\"1\" class=\"dataframe\">\n",
       "  <thead>\n",
       "    <tr style=\"text-align: right;\">\n",
       "      <th></th>\n",
       "      <th>times_pregnant</th>\n",
       "      <th>plasma_glucose</th>\n",
       "      <th>diastolic_bp</th>\n",
       "      <th>triceps_thickness</th>\n",
       "      <th>2_hour_serum</th>\n",
       "      <th>bmi</th>\n",
       "      <th>pedigree_fn</th>\n",
       "      <th>age</th>\n",
       "    </tr>\n",
       "  </thead>\n",
       "  <tbody>\n",
       "    <tr>\n",
       "      <th>0</th>\n",
       "      <td>6</td>\n",
       "      <td>148</td>\n",
       "      <td>72</td>\n",
       "      <td>35</td>\n",
       "      <td>0</td>\n",
       "      <td>33.6</td>\n",
       "      <td>0.627</td>\n",
       "      <td>50</td>\n",
       "    </tr>\n",
       "    <tr>\n",
       "      <th>1</th>\n",
       "      <td>1</td>\n",
       "      <td>85</td>\n",
       "      <td>66</td>\n",
       "      <td>29</td>\n",
       "      <td>0</td>\n",
       "      <td>26.6</td>\n",
       "      <td>0.351</td>\n",
       "      <td>31</td>\n",
       "    </tr>\n",
       "    <tr>\n",
       "      <th>2</th>\n",
       "      <td>8</td>\n",
       "      <td>183</td>\n",
       "      <td>64</td>\n",
       "      <td>0</td>\n",
       "      <td>0</td>\n",
       "      <td>23.3</td>\n",
       "      <td>0.672</td>\n",
       "      <td>32</td>\n",
       "    </tr>\n",
       "    <tr>\n",
       "      <th>3</th>\n",
       "      <td>1</td>\n",
       "      <td>89</td>\n",
       "      <td>66</td>\n",
       "      <td>23</td>\n",
       "      <td>94</td>\n",
       "      <td>28.1</td>\n",
       "      <td>0.167</td>\n",
       "      <td>21</td>\n",
       "    </tr>\n",
       "    <tr>\n",
       "      <th>4</th>\n",
       "      <td>0</td>\n",
       "      <td>137</td>\n",
       "      <td>40</td>\n",
       "      <td>35</td>\n",
       "      <td>168</td>\n",
       "      <td>43.1</td>\n",
       "      <td>2.288</td>\n",
       "      <td>33</td>\n",
       "    </tr>\n",
       "  </tbody>\n",
       "</table>\n",
       "</div>"
      ],
      "text/plain": [
       "   times_pregnant  plasma_glucose  diastolic_bp  triceps_thickness  \\\n",
       "0               6             148            72                 35   \n",
       "1               1              85            66                 29   \n",
       "2               8             183            64                  0   \n",
       "3               1              89            66                 23   \n",
       "4               0             137            40                 35   \n",
       "\n",
       "   2_hour_serum   bmi  pedigree_fn  age  \n",
       "0             0  33.6        0.627   50  \n",
       "1             0  26.6        0.351   31  \n",
       "2             0  23.3        0.672   32  \n",
       "3            94  28.1        0.167   21  \n",
       "4           168  43.1        2.288   33  "
      ]
     },
     "execution_count": 17,
     "metadata": {},
     "output_type": "execute_result"
    }
   ],
   "source": [
    "pd.DataFrame(X).head()"
   ]
  },
  {
   "cell_type": "code",
   "execution_count": 35,
   "id": "dca6b862-2207-4138-9e4a-f648ac3790e4",
   "metadata": {},
   "outputs": [
    {
     "name": "stdout",
     "output_type": "stream",
     "text": [
      "24/24 [==============================] - 0s 435us/step - loss: 0.2895 - accuracy: 0.8776\n",
      "Accuracy: 87.76\n"
     ]
    }
   ],
   "source": [
    "from sklearn.preprocessing import RobustScaler\n",
    "\n",
    "X_scaled = RobustScaler().fit_transform(X)\n",
    "\n",
    "model2 = Sequential()\n",
    "model2.add(Dense(12, input_shape=(8,), activation='relu'))\n",
    "model2.add(Dense(8, activation='relu'))\n",
    "model2.add(Dense(1, activation='sigmoid'))\n",
    "\n",
    "model2.compile(loss='binary_crossentropy', optimizer='adam', metrics=['accuracy'])\n",
    "\n",
    "history = model2.fit(X_scaled, y, epochs=500, batch_size=10, verbose=0)\n",
    "\n",
    "# evaluate the keras model\n",
    "_, accuracy = model2.evaluate(X_scaled, y)\n",
    "print('Accuracy: %.2f' % (accuracy*100))"
   ]
  },
  {
   "cell_type": "markdown",
   "id": "741277cc-045a-4820-aaa8-d41c613e1875",
   "metadata": {},
   "source": [
    "# Try dropping zero/0 values"
   ]
  },
  {
   "cell_type": "code",
   "execution_count": 19,
   "id": "f24e7626-c0e6-45b8-8550-d54754404200",
   "metadata": {},
   "outputs": [],
   "source": [
    "X2 = X.copy()"
   ]
  },
  {
   "cell_type": "code",
   "execution_count": 20,
   "id": "40ee93de-6763-431e-9c4d-9b573fd435fc",
   "metadata": {},
   "outputs": [
    {
     "name": "stdout",
     "output_type": "stream",
     "text": [
      "times_pregnant: 111\n",
      "plasma_glucose: 5\n",
      "diastolic_bp: 35\n",
      "triceps_thickness: 227\n",
      "2_hour_serum: 374\n",
      "bmi: 11\n",
      "pedigree_fn: 0\n",
      "age: 0\n"
     ]
    }
   ],
   "source": [
    "for column in X2.columns:\n",
    "    print(f'{column}: {(X2[column] == 0).sum()}')"
   ]
  },
  {
   "cell_type": "code",
   "execution_count": 21,
   "id": "6795cac4-c6a8-489b-bf34-ea9fc4598b1a",
   "metadata": {},
   "outputs": [],
   "source": [
    "#Drop rows with zero for: plasma_glucose, diastolic_bp, triceps_thickness, 2_hour_serum, bmi"
   ]
  },
  {
   "cell_type": "code",
   "execution_count": 22,
   "id": "e0b211df-e766-4270-af8d-382b6aa07cb9",
   "metadata": {},
   "outputs": [
    {
     "name": "stdout",
     "output_type": "stream",
     "text": [
      "plasma_glucose:5\n",
      "diastolic_bp:40\n",
      "triceps_thickness:267\n",
      "2_hour_serum:641\n",
      "bmi:652\n"
     ]
    }
   ],
   "source": [
    "drop_list = []\n",
    "for column in ['plasma_glucose', 'diastolic_bp', 'triceps_thickness', '2_hour_serum', 'bmi']:\n",
    "    drop_list = drop_list + X2.index[X2[column] == 0].tolist()\n",
    "    print(f'{column}:{len(drop_list)}')"
   ]
  },
  {
   "cell_type": "code",
   "execution_count": 23,
   "id": "23cce819-49e7-4761-a35c-f8606a8322f8",
   "metadata": {},
   "outputs": [
    {
     "data": {
      "text/plain": [
       "((392, 8), (392,))"
      ]
     },
     "execution_count": 23,
     "metadata": {},
     "output_type": "execute_result"
    }
   ],
   "source": [
    "X3 = X2.drop(X2.index[drop_list])\n",
    "y3 = y.drop(X2.index[drop_list])\n",
    "\n",
    "X3.shape, y3.shape\n",
    "             "
   ]
  },
  {
   "cell_type": "code",
   "execution_count": 24,
   "id": "d86d126d-0809-463d-9429-939b920f6298",
   "metadata": {},
   "outputs": [
    {
     "name": "stdout",
     "output_type": "stream",
     "text": [
      "13/13 [==============================] - 0s 806us/step - loss: 0.4019 - accuracy: 0.8010\n",
      "Accuracy: 80.10\n"
     ]
    }
   ],
   "source": [
    "# define the keras model\n",
    "model = Sequential()\n",
    "model.add(Dense(12, input_shape=(8,), activation='relu'))\n",
    "model.add(Dense(8, activation='relu'))\n",
    "model.add(Dense(1, activation='sigmoid'))\n",
    "\n",
    "# compile the keras model\n",
    "model.compile(loss='binary_crossentropy', optimizer='adam', metrics=['accuracy'])\n",
    "# fit the keras model on the dataset\n",
    "\n",
    "history = model.fit(X3, y3, epochs=500, batch_size=10, verbose=0)\n",
    "\n",
    "# evaluate the keras model\n",
    "_, accuracy = model.evaluate(X3, y3)\n",
    "print('Accuracy: %.2f' % (accuracy*100))"
   ]
  },
  {
   "cell_type": "markdown",
   "id": "da77caf7-a6e4-44e3-b733-d90003a4454a",
   "metadata": {},
   "source": [
    "# Impute (mean) zero/0 values with column mean"
   ]
  },
  {
   "cell_type": "code",
   "execution_count": 25,
   "id": "debe9cc1-e59f-4c5f-bc6b-484e16030866",
   "metadata": {},
   "outputs": [
    {
     "data": {
      "text/html": [
       "<div>\n",
       "<style scoped>\n",
       "    .dataframe tbody tr th:only-of-type {\n",
       "        vertical-align: middle;\n",
       "    }\n",
       "\n",
       "    .dataframe tbody tr th {\n",
       "        vertical-align: top;\n",
       "    }\n",
       "\n",
       "    .dataframe thead th {\n",
       "        text-align: right;\n",
       "    }\n",
       "</style>\n",
       "<table border=\"1\" class=\"dataframe\">\n",
       "  <thead>\n",
       "    <tr style=\"text-align: right;\">\n",
       "      <th></th>\n",
       "      <th>times_pregnant</th>\n",
       "      <th>plasma_glucose</th>\n",
       "      <th>diastolic_bp</th>\n",
       "      <th>triceps_thickness</th>\n",
       "      <th>2_hour_serum</th>\n",
       "      <th>bmi</th>\n",
       "      <th>pedigree_fn</th>\n",
       "      <th>age</th>\n",
       "    </tr>\n",
       "  </thead>\n",
       "  <tbody>\n",
       "    <tr>\n",
       "      <th>0</th>\n",
       "      <td>6</td>\n",
       "      <td>148</td>\n",
       "      <td>72</td>\n",
       "      <td>35</td>\n",
       "      <td>0</td>\n",
       "      <td>33.6</td>\n",
       "      <td>0.627</td>\n",
       "      <td>50</td>\n",
       "    </tr>\n",
       "    <tr>\n",
       "      <th>1</th>\n",
       "      <td>1</td>\n",
       "      <td>85</td>\n",
       "      <td>66</td>\n",
       "      <td>29</td>\n",
       "      <td>0</td>\n",
       "      <td>26.6</td>\n",
       "      <td>0.351</td>\n",
       "      <td>31</td>\n",
       "    </tr>\n",
       "    <tr>\n",
       "      <th>2</th>\n",
       "      <td>8</td>\n",
       "      <td>183</td>\n",
       "      <td>64</td>\n",
       "      <td>0</td>\n",
       "      <td>0</td>\n",
       "      <td>23.3</td>\n",
       "      <td>0.672</td>\n",
       "      <td>32</td>\n",
       "    </tr>\n",
       "    <tr>\n",
       "      <th>3</th>\n",
       "      <td>1</td>\n",
       "      <td>89</td>\n",
       "      <td>66</td>\n",
       "      <td>23</td>\n",
       "      <td>94</td>\n",
       "      <td>28.1</td>\n",
       "      <td>0.167</td>\n",
       "      <td>21</td>\n",
       "    </tr>\n",
       "    <tr>\n",
       "      <th>4</th>\n",
       "      <td>0</td>\n",
       "      <td>137</td>\n",
       "      <td>40</td>\n",
       "      <td>35</td>\n",
       "      <td>168</td>\n",
       "      <td>43.1</td>\n",
       "      <td>2.288</td>\n",
       "      <td>33</td>\n",
       "    </tr>\n",
       "    <tr>\n",
       "      <th>5</th>\n",
       "      <td>5</td>\n",
       "      <td>116</td>\n",
       "      <td>74</td>\n",
       "      <td>0</td>\n",
       "      <td>0</td>\n",
       "      <td>25.6</td>\n",
       "      <td>0.201</td>\n",
       "      <td>30</td>\n",
       "    </tr>\n",
       "    <tr>\n",
       "      <th>6</th>\n",
       "      <td>3</td>\n",
       "      <td>78</td>\n",
       "      <td>50</td>\n",
       "      <td>32</td>\n",
       "      <td>88</td>\n",
       "      <td>31.0</td>\n",
       "      <td>0.248</td>\n",
       "      <td>26</td>\n",
       "    </tr>\n",
       "    <tr>\n",
       "      <th>7</th>\n",
       "      <td>10</td>\n",
       "      <td>115</td>\n",
       "      <td>0</td>\n",
       "      <td>0</td>\n",
       "      <td>0</td>\n",
       "      <td>35.3</td>\n",
       "      <td>0.134</td>\n",
       "      <td>29</td>\n",
       "    </tr>\n",
       "    <tr>\n",
       "      <th>8</th>\n",
       "      <td>2</td>\n",
       "      <td>197</td>\n",
       "      <td>70</td>\n",
       "      <td>45</td>\n",
       "      <td>543</td>\n",
       "      <td>30.5</td>\n",
       "      <td>0.158</td>\n",
       "      <td>53</td>\n",
       "    </tr>\n",
       "    <tr>\n",
       "      <th>9</th>\n",
       "      <td>8</td>\n",
       "      <td>125</td>\n",
       "      <td>96</td>\n",
       "      <td>0</td>\n",
       "      <td>0</td>\n",
       "      <td>0.0</td>\n",
       "      <td>0.232</td>\n",
       "      <td>54</td>\n",
       "    </tr>\n",
       "    <tr>\n",
       "      <th>10</th>\n",
       "      <td>4</td>\n",
       "      <td>110</td>\n",
       "      <td>92</td>\n",
       "      <td>0</td>\n",
       "      <td>0</td>\n",
       "      <td>37.6</td>\n",
       "      <td>0.191</td>\n",
       "      <td>30</td>\n",
       "    </tr>\n",
       "    <tr>\n",
       "      <th>11</th>\n",
       "      <td>10</td>\n",
       "      <td>168</td>\n",
       "      <td>74</td>\n",
       "      <td>0</td>\n",
       "      <td>0</td>\n",
       "      <td>38.0</td>\n",
       "      <td>0.537</td>\n",
       "      <td>34</td>\n",
       "    </tr>\n",
       "    <tr>\n",
       "      <th>12</th>\n",
       "      <td>10</td>\n",
       "      <td>139</td>\n",
       "      <td>80</td>\n",
       "      <td>0</td>\n",
       "      <td>0</td>\n",
       "      <td>27.1</td>\n",
       "      <td>1.441</td>\n",
       "      <td>57</td>\n",
       "    </tr>\n",
       "    <tr>\n",
       "      <th>13</th>\n",
       "      <td>1</td>\n",
       "      <td>189</td>\n",
       "      <td>60</td>\n",
       "      <td>23</td>\n",
       "      <td>846</td>\n",
       "      <td>30.1</td>\n",
       "      <td>0.398</td>\n",
       "      <td>59</td>\n",
       "    </tr>\n",
       "    <tr>\n",
       "      <th>14</th>\n",
       "      <td>5</td>\n",
       "      <td>166</td>\n",
       "      <td>72</td>\n",
       "      <td>19</td>\n",
       "      <td>175</td>\n",
       "      <td>25.8</td>\n",
       "      <td>0.587</td>\n",
       "      <td>51</td>\n",
       "    </tr>\n",
       "    <tr>\n",
       "      <th>15</th>\n",
       "      <td>7</td>\n",
       "      <td>100</td>\n",
       "      <td>0</td>\n",
       "      <td>0</td>\n",
       "      <td>0</td>\n",
       "      <td>30.0</td>\n",
       "      <td>0.484</td>\n",
       "      <td>32</td>\n",
       "    </tr>\n",
       "    <tr>\n",
       "      <th>16</th>\n",
       "      <td>0</td>\n",
       "      <td>118</td>\n",
       "      <td>84</td>\n",
       "      <td>47</td>\n",
       "      <td>230</td>\n",
       "      <td>45.8</td>\n",
       "      <td>0.551</td>\n",
       "      <td>31</td>\n",
       "    </tr>\n",
       "    <tr>\n",
       "      <th>17</th>\n",
       "      <td>7</td>\n",
       "      <td>107</td>\n",
       "      <td>74</td>\n",
       "      <td>0</td>\n",
       "      <td>0</td>\n",
       "      <td>29.6</td>\n",
       "      <td>0.254</td>\n",
       "      <td>31</td>\n",
       "    </tr>\n",
       "    <tr>\n",
       "      <th>18</th>\n",
       "      <td>1</td>\n",
       "      <td>103</td>\n",
       "      <td>30</td>\n",
       "      <td>38</td>\n",
       "      <td>83</td>\n",
       "      <td>43.3</td>\n",
       "      <td>0.183</td>\n",
       "      <td>33</td>\n",
       "    </tr>\n",
       "    <tr>\n",
       "      <th>19</th>\n",
       "      <td>1</td>\n",
       "      <td>115</td>\n",
       "      <td>70</td>\n",
       "      <td>30</td>\n",
       "      <td>96</td>\n",
       "      <td>34.6</td>\n",
       "      <td>0.529</td>\n",
       "      <td>32</td>\n",
       "    </tr>\n",
       "  </tbody>\n",
       "</table>\n",
       "</div>"
      ],
      "text/plain": [
       "    times_pregnant  plasma_glucose  diastolic_bp  triceps_thickness  \\\n",
       "0                6             148            72                 35   \n",
       "1                1              85            66                 29   \n",
       "2                8             183            64                  0   \n",
       "3                1              89            66                 23   \n",
       "4                0             137            40                 35   \n",
       "5                5             116            74                  0   \n",
       "6                3              78            50                 32   \n",
       "7               10             115             0                  0   \n",
       "8                2             197            70                 45   \n",
       "9                8             125            96                  0   \n",
       "10               4             110            92                  0   \n",
       "11              10             168            74                  0   \n",
       "12              10             139            80                  0   \n",
       "13               1             189            60                 23   \n",
       "14               5             166            72                 19   \n",
       "15               7             100             0                  0   \n",
       "16               0             118            84                 47   \n",
       "17               7             107            74                  0   \n",
       "18               1             103            30                 38   \n",
       "19               1             115            70                 30   \n",
       "\n",
       "    2_hour_serum   bmi  pedigree_fn  age  \n",
       "0              0  33.6        0.627   50  \n",
       "1              0  26.6        0.351   31  \n",
       "2              0  23.3        0.672   32  \n",
       "3             94  28.1        0.167   21  \n",
       "4            168  43.1        2.288   33  \n",
       "5              0  25.6        0.201   30  \n",
       "6             88  31.0        0.248   26  \n",
       "7              0  35.3        0.134   29  \n",
       "8            543  30.5        0.158   53  \n",
       "9              0   0.0        0.232   54  \n",
       "10             0  37.6        0.191   30  \n",
       "11             0  38.0        0.537   34  \n",
       "12             0  27.1        1.441   57  \n",
       "13           846  30.1        0.398   59  \n",
       "14           175  25.8        0.587   51  \n",
       "15             0  30.0        0.484   32  \n",
       "16           230  45.8        0.551   31  \n",
       "17             0  29.6        0.254   31  \n",
       "18            83  43.3        0.183   33  \n",
       "19            96  34.6        0.529   32  "
      ]
     },
     "execution_count": 25,
     "metadata": {},
     "output_type": "execute_result"
    }
   ],
   "source": [
    "X4 = X.copy()\n",
    "X4.head(20)"
   ]
  },
  {
   "cell_type": "code",
   "execution_count": 26,
   "id": "783468eb-d44c-4b39-a1d6-204c33ce859c",
   "metadata": {},
   "outputs": [],
   "source": [
    "#Impute rows with zero: plasma_glucose, diastolic_bp, triceps_thickness, 2_hour_serum, bmi\n",
    "from sklearn.impute import SimpleImputer\n"
   ]
  },
  {
   "cell_type": "code",
   "execution_count": 27,
   "id": "c7ee909e-5fca-48d5-8011-e8cb59dee9b2",
   "metadata": {},
   "outputs": [
    {
     "data": {
      "text/html": [
       "<div>\n",
       "<style scoped>\n",
       "    .dataframe tbody tr th:only-of-type {\n",
       "        vertical-align: middle;\n",
       "    }\n",
       "\n",
       "    .dataframe tbody tr th {\n",
       "        vertical-align: top;\n",
       "    }\n",
       "\n",
       "    .dataframe thead th {\n",
       "        text-align: right;\n",
       "    }\n",
       "</style>\n",
       "<table border=\"1\" class=\"dataframe\">\n",
       "  <thead>\n",
       "    <tr style=\"text-align: right;\">\n",
       "      <th></th>\n",
       "      <th>times_pregnant</th>\n",
       "      <th>plasma_glucose</th>\n",
       "      <th>diastolic_bp</th>\n",
       "      <th>triceps_thickness</th>\n",
       "      <th>2_hour_serum</th>\n",
       "      <th>bmi</th>\n",
       "      <th>pedigree_fn</th>\n",
       "      <th>age</th>\n",
       "    </tr>\n",
       "  </thead>\n",
       "  <tbody>\n",
       "    <tr>\n",
       "      <th>0</th>\n",
       "      <td>6</td>\n",
       "      <td>148.0</td>\n",
       "      <td>72.000000</td>\n",
       "      <td>35.00000</td>\n",
       "      <td>155.548223</td>\n",
       "      <td>33.600000</td>\n",
       "      <td>0.627</td>\n",
       "      <td>50</td>\n",
       "    </tr>\n",
       "    <tr>\n",
       "      <th>1</th>\n",
       "      <td>1</td>\n",
       "      <td>85.0</td>\n",
       "      <td>66.000000</td>\n",
       "      <td>29.00000</td>\n",
       "      <td>155.548223</td>\n",
       "      <td>26.600000</td>\n",
       "      <td>0.351</td>\n",
       "      <td>31</td>\n",
       "    </tr>\n",
       "    <tr>\n",
       "      <th>2</th>\n",
       "      <td>8</td>\n",
       "      <td>183.0</td>\n",
       "      <td>64.000000</td>\n",
       "      <td>29.15342</td>\n",
       "      <td>155.548223</td>\n",
       "      <td>23.300000</td>\n",
       "      <td>0.672</td>\n",
       "      <td>32</td>\n",
       "    </tr>\n",
       "    <tr>\n",
       "      <th>3</th>\n",
       "      <td>1</td>\n",
       "      <td>89.0</td>\n",
       "      <td>66.000000</td>\n",
       "      <td>23.00000</td>\n",
       "      <td>94.000000</td>\n",
       "      <td>28.100000</td>\n",
       "      <td>0.167</td>\n",
       "      <td>21</td>\n",
       "    </tr>\n",
       "    <tr>\n",
       "      <th>4</th>\n",
       "      <td>0</td>\n",
       "      <td>137.0</td>\n",
       "      <td>40.000000</td>\n",
       "      <td>35.00000</td>\n",
       "      <td>168.000000</td>\n",
       "      <td>43.100000</td>\n",
       "      <td>2.288</td>\n",
       "      <td>33</td>\n",
       "    </tr>\n",
       "    <tr>\n",
       "      <th>5</th>\n",
       "      <td>5</td>\n",
       "      <td>116.0</td>\n",
       "      <td>74.000000</td>\n",
       "      <td>29.15342</td>\n",
       "      <td>155.548223</td>\n",
       "      <td>25.600000</td>\n",
       "      <td>0.201</td>\n",
       "      <td>30</td>\n",
       "    </tr>\n",
       "    <tr>\n",
       "      <th>6</th>\n",
       "      <td>3</td>\n",
       "      <td>78.0</td>\n",
       "      <td>50.000000</td>\n",
       "      <td>32.00000</td>\n",
       "      <td>88.000000</td>\n",
       "      <td>31.000000</td>\n",
       "      <td>0.248</td>\n",
       "      <td>26</td>\n",
       "    </tr>\n",
       "    <tr>\n",
       "      <th>7</th>\n",
       "      <td>10</td>\n",
       "      <td>115.0</td>\n",
       "      <td>72.405184</td>\n",
       "      <td>29.15342</td>\n",
       "      <td>155.548223</td>\n",
       "      <td>35.300000</td>\n",
       "      <td>0.134</td>\n",
       "      <td>29</td>\n",
       "    </tr>\n",
       "    <tr>\n",
       "      <th>8</th>\n",
       "      <td>2</td>\n",
       "      <td>197.0</td>\n",
       "      <td>70.000000</td>\n",
       "      <td>45.00000</td>\n",
       "      <td>543.000000</td>\n",
       "      <td>30.500000</td>\n",
       "      <td>0.158</td>\n",
       "      <td>53</td>\n",
       "    </tr>\n",
       "    <tr>\n",
       "      <th>9</th>\n",
       "      <td>8</td>\n",
       "      <td>125.0</td>\n",
       "      <td>96.000000</td>\n",
       "      <td>29.15342</td>\n",
       "      <td>155.548223</td>\n",
       "      <td>32.457464</td>\n",
       "      <td>0.232</td>\n",
       "      <td>54</td>\n",
       "    </tr>\n",
       "    <tr>\n",
       "      <th>10</th>\n",
       "      <td>4</td>\n",
       "      <td>110.0</td>\n",
       "      <td>92.000000</td>\n",
       "      <td>29.15342</td>\n",
       "      <td>155.548223</td>\n",
       "      <td>37.600000</td>\n",
       "      <td>0.191</td>\n",
       "      <td>30</td>\n",
       "    </tr>\n",
       "    <tr>\n",
       "      <th>11</th>\n",
       "      <td>10</td>\n",
       "      <td>168.0</td>\n",
       "      <td>74.000000</td>\n",
       "      <td>29.15342</td>\n",
       "      <td>155.548223</td>\n",
       "      <td>38.000000</td>\n",
       "      <td>0.537</td>\n",
       "      <td>34</td>\n",
       "    </tr>\n",
       "    <tr>\n",
       "      <th>12</th>\n",
       "      <td>10</td>\n",
       "      <td>139.0</td>\n",
       "      <td>80.000000</td>\n",
       "      <td>29.15342</td>\n",
       "      <td>155.548223</td>\n",
       "      <td>27.100000</td>\n",
       "      <td>1.441</td>\n",
       "      <td>57</td>\n",
       "    </tr>\n",
       "    <tr>\n",
       "      <th>13</th>\n",
       "      <td>1</td>\n",
       "      <td>189.0</td>\n",
       "      <td>60.000000</td>\n",
       "      <td>23.00000</td>\n",
       "      <td>846.000000</td>\n",
       "      <td>30.100000</td>\n",
       "      <td>0.398</td>\n",
       "      <td>59</td>\n",
       "    </tr>\n",
       "    <tr>\n",
       "      <th>14</th>\n",
       "      <td>5</td>\n",
       "      <td>166.0</td>\n",
       "      <td>72.000000</td>\n",
       "      <td>19.00000</td>\n",
       "      <td>175.000000</td>\n",
       "      <td>25.800000</td>\n",
       "      <td>0.587</td>\n",
       "      <td>51</td>\n",
       "    </tr>\n",
       "    <tr>\n",
       "      <th>15</th>\n",
       "      <td>7</td>\n",
       "      <td>100.0</td>\n",
       "      <td>72.405184</td>\n",
       "      <td>29.15342</td>\n",
       "      <td>155.548223</td>\n",
       "      <td>30.000000</td>\n",
       "      <td>0.484</td>\n",
       "      <td>32</td>\n",
       "    </tr>\n",
       "    <tr>\n",
       "      <th>16</th>\n",
       "      <td>0</td>\n",
       "      <td>118.0</td>\n",
       "      <td>84.000000</td>\n",
       "      <td>47.00000</td>\n",
       "      <td>230.000000</td>\n",
       "      <td>45.800000</td>\n",
       "      <td>0.551</td>\n",
       "      <td>31</td>\n",
       "    </tr>\n",
       "    <tr>\n",
       "      <th>17</th>\n",
       "      <td>7</td>\n",
       "      <td>107.0</td>\n",
       "      <td>74.000000</td>\n",
       "      <td>29.15342</td>\n",
       "      <td>155.548223</td>\n",
       "      <td>29.600000</td>\n",
       "      <td>0.254</td>\n",
       "      <td>31</td>\n",
       "    </tr>\n",
       "    <tr>\n",
       "      <th>18</th>\n",
       "      <td>1</td>\n",
       "      <td>103.0</td>\n",
       "      <td>30.000000</td>\n",
       "      <td>38.00000</td>\n",
       "      <td>83.000000</td>\n",
       "      <td>43.300000</td>\n",
       "      <td>0.183</td>\n",
       "      <td>33</td>\n",
       "    </tr>\n",
       "    <tr>\n",
       "      <th>19</th>\n",
       "      <td>1</td>\n",
       "      <td>115.0</td>\n",
       "      <td>70.000000</td>\n",
       "      <td>30.00000</td>\n",
       "      <td>96.000000</td>\n",
       "      <td>34.600000</td>\n",
       "      <td>0.529</td>\n",
       "      <td>32</td>\n",
       "    </tr>\n",
       "  </tbody>\n",
       "</table>\n",
       "</div>"
      ],
      "text/plain": [
       "    times_pregnant  plasma_glucose  diastolic_bp  triceps_thickness  \\\n",
       "0                6           148.0     72.000000           35.00000   \n",
       "1                1            85.0     66.000000           29.00000   \n",
       "2                8           183.0     64.000000           29.15342   \n",
       "3                1            89.0     66.000000           23.00000   \n",
       "4                0           137.0     40.000000           35.00000   \n",
       "5                5           116.0     74.000000           29.15342   \n",
       "6                3            78.0     50.000000           32.00000   \n",
       "7               10           115.0     72.405184           29.15342   \n",
       "8                2           197.0     70.000000           45.00000   \n",
       "9                8           125.0     96.000000           29.15342   \n",
       "10               4           110.0     92.000000           29.15342   \n",
       "11              10           168.0     74.000000           29.15342   \n",
       "12              10           139.0     80.000000           29.15342   \n",
       "13               1           189.0     60.000000           23.00000   \n",
       "14               5           166.0     72.000000           19.00000   \n",
       "15               7           100.0     72.405184           29.15342   \n",
       "16               0           118.0     84.000000           47.00000   \n",
       "17               7           107.0     74.000000           29.15342   \n",
       "18               1           103.0     30.000000           38.00000   \n",
       "19               1           115.0     70.000000           30.00000   \n",
       "\n",
       "    2_hour_serum        bmi  pedigree_fn  age  \n",
       "0     155.548223  33.600000        0.627   50  \n",
       "1     155.548223  26.600000        0.351   31  \n",
       "2     155.548223  23.300000        0.672   32  \n",
       "3      94.000000  28.100000        0.167   21  \n",
       "4     168.000000  43.100000        2.288   33  \n",
       "5     155.548223  25.600000        0.201   30  \n",
       "6      88.000000  31.000000        0.248   26  \n",
       "7     155.548223  35.300000        0.134   29  \n",
       "8     543.000000  30.500000        0.158   53  \n",
       "9     155.548223  32.457464        0.232   54  \n",
       "10    155.548223  37.600000        0.191   30  \n",
       "11    155.548223  38.000000        0.537   34  \n",
       "12    155.548223  27.100000        1.441   57  \n",
       "13    846.000000  30.100000        0.398   59  \n",
       "14    175.000000  25.800000        0.587   51  \n",
       "15    155.548223  30.000000        0.484   32  \n",
       "16    230.000000  45.800000        0.551   31  \n",
       "17    155.548223  29.600000        0.254   31  \n",
       "18     83.000000  43.300000        0.183   33  \n",
       "19     96.000000  34.600000        0.529   32  "
      ]
     },
     "execution_count": 27,
     "metadata": {},
     "output_type": "execute_result"
    }
   ],
   "source": [
    "\n",
    "for column in ['plasma_glucose', 'diastolic_bp', 'triceps_thickness', '2_hour_serum', 'bmi']:\n",
    "    mean_imputer = SimpleImputer(missing_values=0, strategy='mean')\n",
    "    X4[column] = mean_imputer.fit_transform(X[column].to_numpy().reshape(-1,1))\n",
    "    \n",
    "X4.head(20)"
   ]
  },
  {
   "cell_type": "code",
   "execution_count": 32,
   "id": "348d861f-7a70-4bb2-9945-bd8c010d095b",
   "metadata": {},
   "outputs": [
    {
     "name": "stdout",
     "output_type": "stream",
     "text": [
      "24/24 [==============================] - 0s 529us/step - loss: 0.6560 - accuracy: 0.7474\n",
      "Accuracy: 74.74\n"
     ]
    }
   ],
   "source": [
    "from sklearn.preprocessing import RobustScaler\n",
    "\n",
    "model4 = Sequential()\n",
    "model4.add(Dense(12, input_shape=(8,), activation='relu'))\n",
    "model4.add(Dense(8, activation='relu'))\n",
    "model4.add(Dense(1, activation='sigmoid'))\n",
    "\n",
    "model4.compile(loss='binary_crossentropy', optimizer='adam', metrics=['accuracy'])\n",
    "\n",
    "history = model4.fit(X, y, epochs=500, batch_size=10, verbose=0)\n",
    "\n",
    "# evaluate the keras model\n",
    "_, accuracy = model4.evaluate(X4, y)\n",
    "print('Accuracy: %.2f' % (accuracy*100))"
   ]
  },
  {
   "cell_type": "code",
   "execution_count": 38,
   "id": "9c3d2593-f397-44ca-9843-6aa9bc28daaf",
   "metadata": {},
   "outputs": [
    {
     "name": "stdout",
     "output_type": "stream",
     "text": [
      "24/24 [==============================] - 0s 393us/step - loss: 0.2445 - accuracy: 0.8919\n",
      "Accuracy: 89.19\n"
     ]
    }
   ],
   "source": [
    "X5 = RobustScaler().fit_transform(X4)\n",
    "\n",
    "# define the keras model\n",
    "model = Sequential()\n",
    "model.add(Dense(12, input_shape=(8,), activation='relu'))\n",
    "model.add(Dense(8, activation='relu'))\n",
    "model.add(Dense(1, activation='sigmoid'))\n",
    "\n",
    "# compile the keras model\n",
    "model.compile(loss='binary_crossentropy', optimizer='adam', metrics=['accuracy'])\n",
    "# fit the keras model on the dataset\n",
    "\n",
    "history = model.fit(X5, y, epochs=500, batch_size=10, verbose=0)\n",
    "\n",
    "# evaluate the keras model\n",
    "_, accuracy = model.evaluate(X5, y)\n",
    "print('Accuracy: %.2f' % (accuracy*100))"
   ]
  },
  {
   "cell_type": "markdown",
   "id": "e06eb187-7cc9-46c0-b0e3-620e2aca10d8",
   "metadata": {},
   "source": [
    "# Try a KNN Classifier with the above datasets"
   ]
  },
  {
   "cell_type": "markdown",
   "id": "2b8beef3-3da8-45fe-b686-248abfed638c",
   "metadata": {},
   "source": [
    "```\n",
    "X = unaltered dataset - Accuracy: 79.82\n",
    "X_scaled = scaled, zeros NOT removed - Accuracy: 89.32\n",
    "X3/y3 = Drop zeros - Accuracy: 80.10\n",
    "X4 = Mean impute zeros - Accuracy: 74.74\n",
    "X5 = Mean impute zeros then robust scaler - Accuracy: 89.19\n",
    "```"
   ]
  },
  {
   "cell_type": "code",
   "execution_count": 39,
   "id": "8a1d154a-592a-46fd-95d7-d43e2261abc2",
   "metadata": {},
   "outputs": [],
   "source": [
    "from sklearn.neighbors import KNeighborsClassifier"
   ]
  },
  {
   "cell_type": "code",
   "execution_count": 40,
   "id": "a05bce69-e3c3-426a-895b-549692ffad3d",
   "metadata": {},
   "outputs": [
    {
     "data": {
      "text/plain": [
       "0.8033854166666666"
      ]
     },
     "execution_count": 40,
     "metadata": {},
     "output_type": "execute_result"
    }
   ],
   "source": [
    "knn_1 = KNeighborsClassifier()\n",
    "knn_1.fit(X,y)\n",
    "knn_1.score(X,y)"
   ]
  },
  {
   "cell_type": "code",
   "execution_count": 41,
   "id": "fd651f0e-5809-40d1-b351-5a989a104044",
   "metadata": {},
   "outputs": [
    {
     "data": {
      "text/plain": [
       "0.8072916666666666"
      ]
     },
     "execution_count": 41,
     "metadata": {},
     "output_type": "execute_result"
    }
   ],
   "source": [
    "knn_2 = KNeighborsClassifier()\n",
    "knn_2.fit(X_scaled,y)\n",
    "knn_2.score(X_scaled,y)"
   ]
  },
  {
   "cell_type": "code",
   "execution_count": 42,
   "id": "36dac2ab-0a37-4079-b6c3-8b747b4c4431",
   "metadata": {},
   "outputs": [
    {
     "data": {
      "text/plain": [
       "0.8112244897959183"
      ]
     },
     "execution_count": 42,
     "metadata": {},
     "output_type": "execute_result"
    }
   ],
   "source": [
    "knn_2 = KNeighborsClassifier()\n",
    "knn_2.fit(X3,y3)\n",
    "knn_2.score(X3,y3)"
   ]
  },
  {
   "cell_type": "code",
   "execution_count": 43,
   "id": "6d75deb5-5a47-4517-8d87-f8f21d38586f",
   "metadata": {},
   "outputs": [
    {
     "data": {
      "text/plain": [
       "0.8072916666666666"
      ]
     },
     "execution_count": 43,
     "metadata": {},
     "output_type": "execute_result"
    }
   ],
   "source": [
    "knn_1 = KNeighborsClassifier()\n",
    "knn_1.fit(X4,y)\n",
    "knn_1.score(X4,y)"
   ]
  },
  {
   "cell_type": "code",
   "execution_count": 44,
   "id": "801ebbfd-1c59-43d0-ab7e-95c209257d26",
   "metadata": {},
   "outputs": [
    {
     "data": {
      "text/plain": [
       "0.8216145833333334"
      ]
     },
     "execution_count": 44,
     "metadata": {},
     "output_type": "execute_result"
    }
   ],
   "source": [
    "knn_1 = KNeighborsClassifier()\n",
    "knn_1.fit(X5,y)\n",
    "knn_1.score(X5,y)"
   ]
  },
  {
   "cell_type": "code",
   "execution_count": 45,
   "id": "aa86d998-eb39-4600-9f6b-4e3a1600e2e9",
   "metadata": {},
   "outputs": [
    {
     "data": {
      "text/plain": [
       "0.82421875"
      ]
     },
     "execution_count": 45,
     "metadata": {},
     "output_type": "execute_result"
    }
   ],
   "source": [
    "knn_1 = KNeighborsClassifier(n_neighbors=2)\n",
    "knn_1.fit(X5,y)\n",
    "knn_1.score(X5,y)"
   ]
  },
  {
   "cell_type": "code",
   "execution_count": 46,
   "id": "fad7174c-dcbd-4f2a-839a-bfd22946d508",
   "metadata": {},
   "outputs": [
    {
     "data": {
      "text/plain": [
       "0.7825520833333334"
      ]
     },
     "execution_count": 46,
     "metadata": {},
     "output_type": "execute_result"
    }
   ],
   "source": [
    "knn_1 = KNeighborsClassifier(n_neighbors=10)\n",
    "knn_1.fit(X5,y)\n",
    "knn_1.score(X5,y)"
   ]
  },
  {
   "cell_type": "markdown",
   "id": "271a8452-630c-4afe-b936-51abc00a775f",
   "metadata": {},
   "source": [
    "# Logistic Regression"
   ]
  },
  {
   "cell_type": "code",
   "execution_count": 47,
   "id": "3308a051-0e59-40ae-86b6-e1a2cf18632e",
   "metadata": {},
   "outputs": [],
   "source": [
    "from sklearn.linear_model import LogisticRegression"
   ]
  },
  {
   "cell_type": "code",
   "execution_count": 52,
   "id": "1dcf0726-98cb-401b-ad06-efd6422011d5",
   "metadata": {},
   "outputs": [],
   "source": [
    "def do_log_reg(X, y):\n",
    "    lr = LogisticRegression(max_iter=500, n_jobs=-1).fit(X,y)\n",
    "    print(lr.score(X,y))"
   ]
  },
  {
   "cell_type": "code",
   "execution_count": 53,
   "id": "a2156dfb-feac-4074-a3ff-171c48f4df83",
   "metadata": {},
   "outputs": [
    {
     "name": "stdout",
     "output_type": "stream",
     "text": [
      "0.78125\n"
     ]
    }
   ],
   "source": [
    "do_log_reg(X,y)"
   ]
  },
  {
   "cell_type": "code",
   "execution_count": 54,
   "id": "20215776-8a7b-4ad4-a05e-4e40663c8892",
   "metadata": {},
   "outputs": [
    {
     "name": "stdout",
     "output_type": "stream",
     "text": [
      "0.7838541666666666\n"
     ]
    }
   ],
   "source": [
    "do_log_reg(X_scaled,y)"
   ]
  },
  {
   "cell_type": "code",
   "execution_count": 55,
   "id": "12983417-85ee-414e-813c-944fe7eef3b8",
   "metadata": {},
   "outputs": [
    {
     "name": "stdout",
     "output_type": "stream",
     "text": [
      "0.7780612244897959\n"
     ]
    }
   ],
   "source": [
    "do_log_reg(X3,y3)"
   ]
  },
  {
   "cell_type": "code",
   "execution_count": 56,
   "id": "81724923-7ef0-4897-9d71-6f1991b25511",
   "metadata": {},
   "outputs": [
    {
     "name": "stdout",
     "output_type": "stream",
     "text": [
      "0.7747395833333334\n"
     ]
    }
   ],
   "source": [
    "do_log_reg(X4,y)"
   ]
  },
  {
   "cell_type": "code",
   "execution_count": 57,
   "id": "e7e2291d-b84e-4b32-9cf4-b6a4f6530f96",
   "metadata": {},
   "outputs": [
    {
     "name": "stdout",
     "output_type": "stream",
     "text": [
      "0.7734375\n"
     ]
    }
   ],
   "source": [
    "do_log_reg(X5,y)"
   ]
  },
  {
   "cell_type": "code",
   "execution_count": null,
   "id": "7347d82d-20d2-4bd8-906b-4d07fc288506",
   "metadata": {},
   "outputs": [],
   "source": []
  }
 ],
 "metadata": {
  "kernelspec": {
   "display_name": "Python 3 (ipykernel)",
   "language": "python",
   "name": "python3"
  },
  "language_info": {
   "codemirror_mode": {
    "name": "ipython",
    "version": 3
   },
   "file_extension": ".py",
   "mimetype": "text/x-python",
   "name": "python",
   "nbconvert_exporter": "python",
   "pygments_lexer": "ipython3",
   "version": "3.8.13"
  }
 },
 "nbformat": 4,
 "nbformat_minor": 5
}
