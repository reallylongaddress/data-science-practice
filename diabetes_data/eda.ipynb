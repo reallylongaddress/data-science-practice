{
 "cells": [
  {
   "cell_type": "markdown",
   "id": "f8d24da4-e8f5-44e6-88e2-269b7dd83502",
   "metadata": {},
   "source": [
    "From `https://machinelearningmastery.com/handle-missing-data-python/`"
   ]
  },
  {
   "cell_type": "code",
   "execution_count": 1,
   "id": "6ee4c014-5d9b-4f1d-a271-a7190e1d7b44",
   "metadata": {},
   "outputs": [],
   "source": [
    "import pandas as pd\n",
    "import numpy as np\n",
    "import matplotlib.pyplot as plt\n",
    "import seaborn as sns"
   ]
  },
  {
   "cell_type": "code",
   "execution_count": 2,
   "id": "135d37bf-6f13-4cff-a902-35d0eeedb3cc",
   "metadata": {},
   "outputs": [
    {
     "data": {
      "text/html": [
       "<div>\n",
       "<style scoped>\n",
       "    .dataframe tbody tr th:only-of-type {\n",
       "        vertical-align: middle;\n",
       "    }\n",
       "\n",
       "    .dataframe tbody tr th {\n",
       "        vertical-align: top;\n",
       "    }\n",
       "\n",
       "    .dataframe thead th {\n",
       "        text-align: right;\n",
       "    }\n",
       "</style>\n",
       "<table border=\"1\" class=\"dataframe\">\n",
       "  <thead>\n",
       "    <tr style=\"text-align: right;\">\n",
       "      <th></th>\n",
       "      <th>0</th>\n",
       "      <th>1</th>\n",
       "      <th>2</th>\n",
       "      <th>3</th>\n",
       "      <th>4</th>\n",
       "      <th>5</th>\n",
       "      <th>6</th>\n",
       "      <th>7</th>\n",
       "      <th>8</th>\n",
       "    </tr>\n",
       "  </thead>\n",
       "  <tbody>\n",
       "    <tr>\n",
       "      <th>0</th>\n",
       "      <td>6</td>\n",
       "      <td>148</td>\n",
       "      <td>72</td>\n",
       "      <td>35</td>\n",
       "      <td>0</td>\n",
       "      <td>33.6</td>\n",
       "      <td>0.627</td>\n",
       "      <td>50</td>\n",
       "      <td>1</td>\n",
       "    </tr>\n",
       "    <tr>\n",
       "      <th>1</th>\n",
       "      <td>1</td>\n",
       "      <td>85</td>\n",
       "      <td>66</td>\n",
       "      <td>29</td>\n",
       "      <td>0</td>\n",
       "      <td>26.6</td>\n",
       "      <td>0.351</td>\n",
       "      <td>31</td>\n",
       "      <td>0</td>\n",
       "    </tr>\n",
       "    <tr>\n",
       "      <th>2</th>\n",
       "      <td>8</td>\n",
       "      <td>183</td>\n",
       "      <td>64</td>\n",
       "      <td>0</td>\n",
       "      <td>0</td>\n",
       "      <td>23.3</td>\n",
       "      <td>0.672</td>\n",
       "      <td>32</td>\n",
       "      <td>1</td>\n",
       "    </tr>\n",
       "    <tr>\n",
       "      <th>3</th>\n",
       "      <td>1</td>\n",
       "      <td>89</td>\n",
       "      <td>66</td>\n",
       "      <td>23</td>\n",
       "      <td>94</td>\n",
       "      <td>28.1</td>\n",
       "      <td>0.167</td>\n",
       "      <td>21</td>\n",
       "      <td>0</td>\n",
       "    </tr>\n",
       "    <tr>\n",
       "      <th>4</th>\n",
       "      <td>0</td>\n",
       "      <td>137</td>\n",
       "      <td>40</td>\n",
       "      <td>35</td>\n",
       "      <td>168</td>\n",
       "      <td>43.1</td>\n",
       "      <td>2.288</td>\n",
       "      <td>33</td>\n",
       "      <td>1</td>\n",
       "    </tr>\n",
       "  </tbody>\n",
       "</table>\n",
       "</div>"
      ],
      "text/plain": [
       "   0    1   2   3    4     5      6   7  8\n",
       "0  6  148  72  35    0  33.6  0.627  50  1\n",
       "1  1   85  66  29    0  26.6  0.351  31  0\n",
       "2  8  183  64   0    0  23.3  0.672  32  1\n",
       "3  1   89  66  23   94  28.1  0.167  21  0\n",
       "4  0  137  40  35  168  43.1  2.288  33  1"
      ]
     },
     "execution_count": 2,
     "metadata": {},
     "output_type": "execute_result"
    }
   ],
   "source": [
    "#first row is data (not header)\n",
    "df = pd.read_csv('./data/pima-indians-diabetes.csv', header=None)\n",
    "df.head()"
   ]
  },
  {
   "cell_type": "markdown",
   "id": "10ca29c4-4ac3-4502-b3f8-8ee8486651bb",
   "metadata": {},
   "source": [
    "## Make the dataset a little more readable ##"
   ]
  },
  {
   "cell_type": "code",
   "execution_count": 3,
   "id": "2b18a545-3bcf-4b35-8ad0-bebe44e570bb",
   "metadata": {},
   "outputs": [
    {
     "data": {
      "text/html": [
       "<div>\n",
       "<style scoped>\n",
       "    .dataframe tbody tr th:only-of-type {\n",
       "        vertical-align: middle;\n",
       "    }\n",
       "\n",
       "    .dataframe tbody tr th {\n",
       "        vertical-align: top;\n",
       "    }\n",
       "\n",
       "    .dataframe thead th {\n",
       "        text-align: right;\n",
       "    }\n",
       "</style>\n",
       "<table border=\"1\" class=\"dataframe\">\n",
       "  <thead>\n",
       "    <tr style=\"text-align: right;\">\n",
       "      <th></th>\n",
       "      <th>times_preg</th>\n",
       "      <th>plasma_glucose</th>\n",
       "      <th>blood_pressure</th>\n",
       "      <th>skin_thickness</th>\n",
       "      <th>serum_insulin</th>\n",
       "      <th>bmi</th>\n",
       "      <th>pedigree_fn</th>\n",
       "      <th>age</th>\n",
       "      <th>result</th>\n",
       "    </tr>\n",
       "  </thead>\n",
       "  <tbody>\n",
       "    <tr>\n",
       "      <th>0</th>\n",
       "      <td>6</td>\n",
       "      <td>148</td>\n",
       "      <td>72</td>\n",
       "      <td>35</td>\n",
       "      <td>0</td>\n",
       "      <td>33.6</td>\n",
       "      <td>0.627</td>\n",
       "      <td>50</td>\n",
       "      <td>1</td>\n",
       "    </tr>\n",
       "    <tr>\n",
       "      <th>1</th>\n",
       "      <td>1</td>\n",
       "      <td>85</td>\n",
       "      <td>66</td>\n",
       "      <td>29</td>\n",
       "      <td>0</td>\n",
       "      <td>26.6</td>\n",
       "      <td>0.351</td>\n",
       "      <td>31</td>\n",
       "      <td>0</td>\n",
       "    </tr>\n",
       "    <tr>\n",
       "      <th>2</th>\n",
       "      <td>8</td>\n",
       "      <td>183</td>\n",
       "      <td>64</td>\n",
       "      <td>0</td>\n",
       "      <td>0</td>\n",
       "      <td>23.3</td>\n",
       "      <td>0.672</td>\n",
       "      <td>32</td>\n",
       "      <td>1</td>\n",
       "    </tr>\n",
       "    <tr>\n",
       "      <th>3</th>\n",
       "      <td>1</td>\n",
       "      <td>89</td>\n",
       "      <td>66</td>\n",
       "      <td>23</td>\n",
       "      <td>94</td>\n",
       "      <td>28.1</td>\n",
       "      <td>0.167</td>\n",
       "      <td>21</td>\n",
       "      <td>0</td>\n",
       "    </tr>\n",
       "    <tr>\n",
       "      <th>4</th>\n",
       "      <td>0</td>\n",
       "      <td>137</td>\n",
       "      <td>40</td>\n",
       "      <td>35</td>\n",
       "      <td>168</td>\n",
       "      <td>43.1</td>\n",
       "      <td>2.288</td>\n",
       "      <td>33</td>\n",
       "      <td>1</td>\n",
       "    </tr>\n",
       "  </tbody>\n",
       "</table>\n",
       "</div>"
      ],
      "text/plain": [
       "   times_preg  plasma_glucose  blood_pressure  skin_thickness  serum_insulin  \\\n",
       "0           6             148              72              35              0   \n",
       "1           1              85              66              29              0   \n",
       "2           8             183              64               0              0   \n",
       "3           1              89              66              23             94   \n",
       "4           0             137              40              35            168   \n",
       "\n",
       "    bmi  pedigree_fn  age  result  \n",
       "0  33.6        0.627   50       1  \n",
       "1  26.6        0.351   31       0  \n",
       "2  23.3        0.672   32       1  \n",
       "3  28.1        0.167   21       0  \n",
       "4  43.1        2.288   33       1  "
      ]
     },
     "execution_count": 3,
     "metadata": {},
     "output_type": "execute_result"
    }
   ],
   "source": [
    "'''\n",
    "   1. Number of times pregnant\n",
    "   2. Plasma glucose concentration a 2 hours in an oral glucose tolerance test\n",
    "   3. Diastolic blood pressure (mm Hg)\n",
    "   4. Triceps skin fold thickness (mm)\n",
    "   5. 2-Hour serum insulin (mu U/ml)\n",
    "   6. Body mass index (weight in kg/(height in m)^2)\n",
    "   7. Diabetes pedigree function\n",
    "   8. Age (years)\n",
    "   9. Class variable (0 or 1)\n",
    "'''\n",
    "df.rename(columns={0:'times_preg', 1:'plasma_glucose', 2:'blood_pressure', 3:'skin_thickness', 4:'serum_insulin', \\\n",
    "                   5:'bmi', 6:'pedigree_fn', 7:'age', 8:'result'}, inplace=True)\n",
    "df.head()"
   ]
  },
  {
   "cell_type": "markdown",
   "id": "9f9b8c53-0176-43bd-9caf-684dd502e807",
   "metadata": {},
   "source": [
    "# Explore the dataset a little bit #"
   ]
  },
  {
   "cell_type": "code",
   "execution_count": 4,
   "id": "2cda5568-ae34-49d3-8a70-92bfb4580055",
   "metadata": {},
   "outputs": [
    {
     "name": "stdout",
     "output_type": "stream",
     "text": [
      "<class 'pandas.core.frame.DataFrame'>\n",
      "RangeIndex: 768 entries, 0 to 767\n",
      "Data columns (total 9 columns):\n",
      " #   Column          Non-Null Count  Dtype  \n",
      "---  ------          --------------  -----  \n",
      " 0   times_preg      768 non-null    int64  \n",
      " 1   plasma_glucose  768 non-null    int64  \n",
      " 2   blood_pressure  768 non-null    int64  \n",
      " 3   skin_thickness  768 non-null    int64  \n",
      " 4   serum_insulin   768 non-null    int64  \n",
      " 5   bmi             768 non-null    float64\n",
      " 6   pedigree_fn     768 non-null    float64\n",
      " 7   age             768 non-null    int64  \n",
      " 8   result          768 non-null    int64  \n",
      "dtypes: float64(2), int64(7)\n",
      "memory usage: 54.1 KB\n"
     ]
    }
   ],
   "source": [
    "df.info()"
   ]
  },
  {
   "cell_type": "code",
   "execution_count": 5,
   "id": "23ae9d6e-56bf-48c2-b115-ea7078651482",
   "metadata": {},
   "outputs": [
    {
     "data": {
      "text/plain": [
       "times_preg        0\n",
       "plasma_glucose    0\n",
       "blood_pressure    0\n",
       "skin_thickness    0\n",
       "serum_insulin     0\n",
       "bmi               0\n",
       "pedigree_fn       0\n",
       "age               0\n",
       "result            0\n",
       "dtype: int64"
      ]
     },
     "execution_count": 5,
     "metadata": {},
     "output_type": "execute_result"
    }
   ],
   "source": [
    "df.isnull().sum()"
   ]
  },
  {
   "cell_type": "code",
   "execution_count": 6,
   "id": "e55c4a33-4e34-4881-8441-1ba5560e66b6",
   "metadata": {},
   "outputs": [
    {
     "data": {
      "text/html": [
       "<div>\n",
       "<style scoped>\n",
       "    .dataframe tbody tr th:only-of-type {\n",
       "        vertical-align: middle;\n",
       "    }\n",
       "\n",
       "    .dataframe tbody tr th {\n",
       "        vertical-align: top;\n",
       "    }\n",
       "\n",
       "    .dataframe thead th {\n",
       "        text-align: right;\n",
       "    }\n",
       "</style>\n",
       "<table border=\"1\" class=\"dataframe\">\n",
       "  <thead>\n",
       "    <tr style=\"text-align: right;\">\n",
       "      <th></th>\n",
       "      <th>times_preg</th>\n",
       "      <th>plasma_glucose</th>\n",
       "      <th>blood_pressure</th>\n",
       "      <th>skin_thickness</th>\n",
       "      <th>serum_insulin</th>\n",
       "      <th>bmi</th>\n",
       "      <th>pedigree_fn</th>\n",
       "      <th>age</th>\n",
       "      <th>result</th>\n",
       "    </tr>\n",
       "  </thead>\n",
       "  <tbody>\n",
       "    <tr>\n",
       "      <th>count</th>\n",
       "      <td>768.000000</td>\n",
       "      <td>768.000000</td>\n",
       "      <td>768.000000</td>\n",
       "      <td>768.000000</td>\n",
       "      <td>768.000000</td>\n",
       "      <td>768.000000</td>\n",
       "      <td>768.000000</td>\n",
       "      <td>768.000000</td>\n",
       "      <td>768.000000</td>\n",
       "    </tr>\n",
       "    <tr>\n",
       "      <th>mean</th>\n",
       "      <td>3.845052</td>\n",
       "      <td>120.894531</td>\n",
       "      <td>69.105469</td>\n",
       "      <td>20.536458</td>\n",
       "      <td>79.799479</td>\n",
       "      <td>31.992578</td>\n",
       "      <td>0.471876</td>\n",
       "      <td>33.240885</td>\n",
       "      <td>0.348958</td>\n",
       "    </tr>\n",
       "    <tr>\n",
       "      <th>std</th>\n",
       "      <td>3.369578</td>\n",
       "      <td>31.972618</td>\n",
       "      <td>19.355807</td>\n",
       "      <td>15.952218</td>\n",
       "      <td>115.244002</td>\n",
       "      <td>7.884160</td>\n",
       "      <td>0.331329</td>\n",
       "      <td>11.760232</td>\n",
       "      <td>0.476951</td>\n",
       "    </tr>\n",
       "    <tr>\n",
       "      <th>min</th>\n",
       "      <td>0.000000</td>\n",
       "      <td>0.000000</td>\n",
       "      <td>0.000000</td>\n",
       "      <td>0.000000</td>\n",
       "      <td>0.000000</td>\n",
       "      <td>0.000000</td>\n",
       "      <td>0.078000</td>\n",
       "      <td>21.000000</td>\n",
       "      <td>0.000000</td>\n",
       "    </tr>\n",
       "    <tr>\n",
       "      <th>25%</th>\n",
       "      <td>1.000000</td>\n",
       "      <td>99.000000</td>\n",
       "      <td>62.000000</td>\n",
       "      <td>0.000000</td>\n",
       "      <td>0.000000</td>\n",
       "      <td>27.300000</td>\n",
       "      <td>0.243750</td>\n",
       "      <td>24.000000</td>\n",
       "      <td>0.000000</td>\n",
       "    </tr>\n",
       "    <tr>\n",
       "      <th>50%</th>\n",
       "      <td>3.000000</td>\n",
       "      <td>117.000000</td>\n",
       "      <td>72.000000</td>\n",
       "      <td>23.000000</td>\n",
       "      <td>30.500000</td>\n",
       "      <td>32.000000</td>\n",
       "      <td>0.372500</td>\n",
       "      <td>29.000000</td>\n",
       "      <td>0.000000</td>\n",
       "    </tr>\n",
       "    <tr>\n",
       "      <th>75%</th>\n",
       "      <td>6.000000</td>\n",
       "      <td>140.250000</td>\n",
       "      <td>80.000000</td>\n",
       "      <td>32.000000</td>\n",
       "      <td>127.250000</td>\n",
       "      <td>36.600000</td>\n",
       "      <td>0.626250</td>\n",
       "      <td>41.000000</td>\n",
       "      <td>1.000000</td>\n",
       "    </tr>\n",
       "    <tr>\n",
       "      <th>max</th>\n",
       "      <td>17.000000</td>\n",
       "      <td>199.000000</td>\n",
       "      <td>122.000000</td>\n",
       "      <td>99.000000</td>\n",
       "      <td>846.000000</td>\n",
       "      <td>67.100000</td>\n",
       "      <td>2.420000</td>\n",
       "      <td>81.000000</td>\n",
       "      <td>1.000000</td>\n",
       "    </tr>\n",
       "  </tbody>\n",
       "</table>\n",
       "</div>"
      ],
      "text/plain": [
       "       times_preg  plasma_glucose  blood_pressure  skin_thickness  \\\n",
       "count  768.000000      768.000000      768.000000      768.000000   \n",
       "mean     3.845052      120.894531       69.105469       20.536458   \n",
       "std      3.369578       31.972618       19.355807       15.952218   \n",
       "min      0.000000        0.000000        0.000000        0.000000   \n",
       "25%      1.000000       99.000000       62.000000        0.000000   \n",
       "50%      3.000000      117.000000       72.000000       23.000000   \n",
       "75%      6.000000      140.250000       80.000000       32.000000   \n",
       "max     17.000000      199.000000      122.000000       99.000000   \n",
       "\n",
       "       serum_insulin         bmi  pedigree_fn         age      result  \n",
       "count     768.000000  768.000000   768.000000  768.000000  768.000000  \n",
       "mean       79.799479   31.992578     0.471876   33.240885    0.348958  \n",
       "std       115.244002    7.884160     0.331329   11.760232    0.476951  \n",
       "min         0.000000    0.000000     0.078000   21.000000    0.000000  \n",
       "25%         0.000000   27.300000     0.243750   24.000000    0.000000  \n",
       "50%        30.500000   32.000000     0.372500   29.000000    0.000000  \n",
       "75%       127.250000   36.600000     0.626250   41.000000    1.000000  \n",
       "max       846.000000   67.100000     2.420000   81.000000    1.000000  "
      ]
     },
     "execution_count": 6,
     "metadata": {},
     "output_type": "execute_result"
    }
   ],
   "source": [
    "df.describe()"
   ]
  },
  {
   "cell_type": "code",
   "execution_count": 7,
   "id": "41ef7660-4a46-48e2-94df-859fb2ccc403",
   "metadata": {},
   "outputs": [
    {
     "data": {
      "text/html": [
       "<div>\n",
       "<style scoped>\n",
       "    .dataframe tbody tr th:only-of-type {\n",
       "        vertical-align: middle;\n",
       "    }\n",
       "\n",
       "    .dataframe tbody tr th {\n",
       "        vertical-align: top;\n",
       "    }\n",
       "\n",
       "    .dataframe thead th {\n",
       "        text-align: right;\n",
       "    }\n",
       "</style>\n",
       "<table border=\"1\" class=\"dataframe\">\n",
       "  <thead>\n",
       "    <tr style=\"text-align: right;\">\n",
       "      <th></th>\n",
       "      <th>times_preg</th>\n",
       "      <th>plasma_glucose</th>\n",
       "      <th>blood_pressure</th>\n",
       "      <th>skin_thickness</th>\n",
       "      <th>serum_insulin</th>\n",
       "      <th>bmi</th>\n",
       "      <th>pedigree_fn</th>\n",
       "      <th>age</th>\n",
       "      <th>result</th>\n",
       "    </tr>\n",
       "  </thead>\n",
       "  <tbody>\n",
       "    <tr>\n",
       "      <th>0</th>\n",
       "      <td>6</td>\n",
       "      <td>148</td>\n",
       "      <td>72</td>\n",
       "      <td>35</td>\n",
       "      <td>0</td>\n",
       "      <td>33.6</td>\n",
       "      <td>0.627</td>\n",
       "      <td>50</td>\n",
       "      <td>1</td>\n",
       "    </tr>\n",
       "    <tr>\n",
       "      <th>1</th>\n",
       "      <td>1</td>\n",
       "      <td>85</td>\n",
       "      <td>66</td>\n",
       "      <td>29</td>\n",
       "      <td>0</td>\n",
       "      <td>26.6</td>\n",
       "      <td>0.351</td>\n",
       "      <td>31</td>\n",
       "      <td>0</td>\n",
       "    </tr>\n",
       "    <tr>\n",
       "      <th>2</th>\n",
       "      <td>8</td>\n",
       "      <td>183</td>\n",
       "      <td>64</td>\n",
       "      <td>0</td>\n",
       "      <td>0</td>\n",
       "      <td>23.3</td>\n",
       "      <td>0.672</td>\n",
       "      <td>32</td>\n",
       "      <td>1</td>\n",
       "    </tr>\n",
       "    <tr>\n",
       "      <th>3</th>\n",
       "      <td>1</td>\n",
       "      <td>89</td>\n",
       "      <td>66</td>\n",
       "      <td>23</td>\n",
       "      <td>94</td>\n",
       "      <td>28.1</td>\n",
       "      <td>0.167</td>\n",
       "      <td>21</td>\n",
       "      <td>0</td>\n",
       "    </tr>\n",
       "    <tr>\n",
       "      <th>4</th>\n",
       "      <td>0</td>\n",
       "      <td>137</td>\n",
       "      <td>40</td>\n",
       "      <td>35</td>\n",
       "      <td>168</td>\n",
       "      <td>43.1</td>\n",
       "      <td>2.288</td>\n",
       "      <td>33</td>\n",
       "      <td>1</td>\n",
       "    </tr>\n",
       "  </tbody>\n",
       "</table>\n",
       "</div>"
      ],
      "text/plain": [
       "   times_preg  plasma_glucose  blood_pressure  skin_thickness  serum_insulin  \\\n",
       "0           6             148              72              35              0   \n",
       "1           1              85              66              29              0   \n",
       "2           8             183              64               0              0   \n",
       "3           1              89              66              23             94   \n",
       "4           0             137              40              35            168   \n",
       "\n",
       "    bmi  pedigree_fn  age  result  \n",
       "0  33.6        0.627   50       1  \n",
       "1  26.6        0.351   31       0  \n",
       "2  23.3        0.672   32       1  \n",
       "3  28.1        0.167   21       0  \n",
       "4  43.1        2.288   33       1  "
      ]
     },
     "execution_count": 7,
     "metadata": {},
     "output_type": "execute_result"
    }
   ],
   "source": [
    "df.head()"
   ]
  },
  {
   "cell_type": "markdown",
   "id": "ae61ba1c-b995-497d-9816-a70e64450e8e",
   "metadata": {},
   "source": [
    "# Start cleaning data #"
   ]
  },
  {
   "cell_type": "markdown",
   "id": "91e023d7-98fd-4a71-8aeb-e6426eb6bced",
   "metadata": {},
   "source": [
    "## Zero does not make sense in these columns/features ##\n",
    "\n",
    "-plasma_glucose <br/>\n",
    "-blood_pressure <br/>\n",
    "-skin_thickness <br/>\n",
    "-serum_insulin <br/>\n",
    "-bmi"
   ]
  },
  {
   "cell_type": "code",
   "execution_count": 8,
   "id": "fc8e3613-70cc-4e77-9599-6dfd2d4da012",
   "metadata": {},
   "outputs": [
    {
     "name": "stdout",
     "output_type": "stream",
     "text": [
      "plasma_glucose      5\n",
      "blood_pressure     35\n",
      "skin_thickness    227\n",
      "serum_insulin     374\n",
      "bmi                11\n",
      "dtype: int64\n",
      "Total Columns: 768\n"
     ]
    }
   ],
   "source": [
    "selected_columns = ['plasma_glucose', 'blood_pressure', 'skin_thickness', 'serum_insulin', 'bmi']\n",
    "num_missing = (df[selected_columns] == 0).sum()\n",
    "print(num_missing)\n",
    "print(f'Total Columns: {len(df)}')"
   ]
  },
  {
   "cell_type": "markdown",
   "id": "659b013e-6469-4dfa-8f9a-8703f17e75e3",
   "metadata": {},
   "source": [
    "Mark the zeros/0 as NaN to they're not treated as actual integer values"
   ]
  },
  {
   "cell_type": "code",
   "execution_count": 9,
   "id": "ebfa450e-de4e-443a-a5ba-836792ccc04e",
   "metadata": {},
   "outputs": [],
   "source": [
    "df[selected_columns] = df[selected_columns].replace({0:np.nan})"
   ]
  },
  {
   "cell_type": "code",
   "execution_count": 10,
   "id": "62d44ebf-07e2-479b-8f95-6175a4786c07",
   "metadata": {},
   "outputs": [
    {
     "name": "stdout",
     "output_type": "stream",
     "text": [
      "times_preg          0\n",
      "plasma_glucose      5\n",
      "blood_pressure     35\n",
      "skin_thickness    227\n",
      "serum_insulin     374\n",
      "bmi                11\n",
      "pedigree_fn         0\n",
      "age                 0\n",
      "result              0\n",
      "dtype: int64\n"
     ]
    }
   ],
   "source": [
    "print(df.isnull().sum())"
   ]
  },
  {
   "cell_type": "code",
   "execution_count": 11,
   "id": "7ebd8636-c2ec-4cce-9df2-4ea08bc47607",
   "metadata": {},
   "outputs": [
    {
     "data": {
      "text/plain": [
       "(768, 9)"
      ]
     },
     "execution_count": 11,
     "metadata": {},
     "output_type": "execute_result"
    }
   ],
   "source": [
    "df.shape"
   ]
  },
  {
   "cell_type": "markdown",
   "id": "1c7f784e-bc79-4898-b1f4-10ea2f44ced1",
   "metadata": {},
   "source": [
    "### Try crude method of dropping all rows with null data and check results ###"
   ]
  },
  {
   "cell_type": "code",
   "execution_count": 12,
   "id": "e7cbed4d-fa26-4dd3-b846-b85e02272a02",
   "metadata": {},
   "outputs": [],
   "source": [
    "from sklearn.discriminant_analysis import LinearDiscriminantAnalysis\n",
    "from sklearn.model_selection import KFold\n",
    "from sklearn.model_selection import cross_val_score"
   ]
  },
  {
   "cell_type": "code",
   "execution_count": 13,
   "id": "cfa600d9-11ec-4ebe-b7a1-5ce503b16a77",
   "metadata": {},
   "outputs": [
    {
     "data": {
      "text/plain": [
       "(392, 9)"
      ]
     },
     "execution_count": 13,
     "metadata": {},
     "output_type": "execute_result"
    }
   ],
   "source": [
    "df_drop = df.copy()\n",
    "df_drop.dropna(inplace=True)\n",
    "df_values = df_drop.values\n",
    "\n",
    "df_drop.shape"
   ]
  },
  {
   "cell_type": "code",
   "execution_count": 14,
   "id": "e06e56e3-ba3f-4890-a12d-6dde368dd851",
   "metadata": {},
   "outputs": [
    {
     "data": {
      "text/plain": [
       "(392, 8)"
      ]
     },
     "execution_count": 14,
     "metadata": {},
     "output_type": "execute_result"
    }
   ],
   "source": [
    "X = df_values[:,0:8]\n",
    "X.shape"
   ]
  },
  {
   "cell_type": "code",
   "execution_count": 15,
   "id": "3b9a46af-e433-43d2-b5e5-d6b4f55c5175",
   "metadata": {},
   "outputs": [
    {
     "data": {
      "text/plain": [
       "(392,)"
      ]
     },
     "execution_count": 15,
     "metadata": {},
     "output_type": "execute_result"
    }
   ],
   "source": [
    "y = df_values[:,8]\n",
    "y.shape"
   ]
  },
  {
   "cell_type": "markdown",
   "id": "3de69a7a-9bd2-43dd-8017-7cb60fd60e29",
   "metadata": {},
   "source": [
    "### LinearDiscriminantAnalysis ###"
   ]
  },
  {
   "cell_type": "code",
   "execution_count": 16,
   "id": "b7be7fbc-d864-40ec-a930-d6ba9fe75e99",
   "metadata": {},
   "outputs": [
    {
     "name": "stdout",
     "output_type": "stream",
     "text": [
      "lda_accuracy: 78.3%\n"
     ]
    }
   ],
   "source": [
    "# define the model\n",
    "lda_model = LinearDiscriminantAnalysis()\n",
    "\n",
    "# define the model evaluation procedure\n",
    "cv = KFold(n_splits=10, shuffle=True, random_state=1)\n",
    "\n",
    "# evaluate the model\n",
    "lda_result = cross_val_score(lda_model, X, y, cv=cv, scoring='accuracy')\n",
    "lda_accuracy = round(lda_result.mean(), 3)\n",
    "# report the mean performance\n",
    "print(f'lda_accuracy: {lda_accuracy*100}%')"
   ]
  },
  {
   "cell_type": "markdown",
   "id": "c2f7fed2-0716-46bb-8a49-f957ea061609",
   "metadata": {},
   "source": [
    "### LogisticRegression ### "
   ]
  },
  {
   "cell_type": "code",
   "execution_count": 17,
   "id": "22ee72a6-b197-44f3-9ecf-70082208488b",
   "metadata": {},
   "outputs": [],
   "source": [
    "from sklearn.linear_model import LogisticRegression\n",
    "from sklearn.model_selection import train_test_split"
   ]
  },
  {
   "cell_type": "code",
   "execution_count": 18,
   "id": "44b0f6ba-55e5-4913-b017-181ee7dfb8b1",
   "metadata": {},
   "outputs": [
    {
     "name": "stdout",
     "output_type": "stream",
     "text": [
      "log_accuracy: 77.60000000000001%\n"
     ]
    }
   ],
   "source": [
    "# define the model\n",
    "log_model = LogisticRegression(max_iter=1000)\n",
    "\n",
    "# define the model evaluation procedure\n",
    "cv = KFold(n_splits=10, shuffle=True, random_state=1)\n",
    "\n",
    "# evaluate the model\n",
    "log_result = cross_val_score(log_model, X, y, cv=cv, scoring='accuracy')\n",
    "log_accuracy = round(log_result.mean(), 3)\n",
    "# report the mean performance\n",
    "print(f'log_accuracy: {log_accuracy*100}%')"
   ]
  },
  {
   "cell_type": "markdown",
   "id": "acbf90f7-267e-4a1c-920e-049cab319dc6",
   "metadata": {},
   "source": [
    "## Normalize/Standardize data and test our accuracy again ##"
   ]
  },
  {
   "cell_type": "code",
   "execution_count": 39,
   "id": "a3776000-f959-4d90-b83e-31e341c3e2d9",
   "metadata": {},
   "outputs": [],
   "source": [
    "from sklearn.preprocessing import RobustScaler\n",
    "from sklearn.preprocessing import StandardScaler\n",
    "from sklearn.preprocessing import MinMaxScaler"
   ]
  },
  {
   "cell_type": "code",
   "execution_count": 20,
   "id": "bb6cf9bd-de4f-4881-a557-a38feae66fff",
   "metadata": {},
   "outputs": [
    {
     "data": {
      "text/html": [
       "<div>\n",
       "<style scoped>\n",
       "    .dataframe tbody tr th:only-of-type {\n",
       "        vertical-align: middle;\n",
       "    }\n",
       "\n",
       "    .dataframe tbody tr th {\n",
       "        vertical-align: top;\n",
       "    }\n",
       "\n",
       "    .dataframe thead th {\n",
       "        text-align: right;\n",
       "    }\n",
       "</style>\n",
       "<table border=\"1\" class=\"dataframe\">\n",
       "  <thead>\n",
       "    <tr style=\"text-align: right;\">\n",
       "      <th></th>\n",
       "      <th>times_preg</th>\n",
       "      <th>plasma_glucose</th>\n",
       "      <th>blood_pressure</th>\n",
       "      <th>skin_thickness</th>\n",
       "      <th>serum_insulin</th>\n",
       "      <th>bmi</th>\n",
       "      <th>pedigree_fn</th>\n",
       "      <th>age</th>\n",
       "      <th>result</th>\n",
       "    </tr>\n",
       "  </thead>\n",
       "  <tbody>\n",
       "    <tr>\n",
       "      <th>3</th>\n",
       "      <td>1</td>\n",
       "      <td>89.0</td>\n",
       "      <td>66.0</td>\n",
       "      <td>23.0</td>\n",
       "      <td>94.0</td>\n",
       "      <td>28.1</td>\n",
       "      <td>0.167</td>\n",
       "      <td>21</td>\n",
       "      <td>0</td>\n",
       "    </tr>\n",
       "    <tr>\n",
       "      <th>4</th>\n",
       "      <td>0</td>\n",
       "      <td>137.0</td>\n",
       "      <td>40.0</td>\n",
       "      <td>35.0</td>\n",
       "      <td>168.0</td>\n",
       "      <td>43.1</td>\n",
       "      <td>2.288</td>\n",
       "      <td>33</td>\n",
       "      <td>1</td>\n",
       "    </tr>\n",
       "    <tr>\n",
       "      <th>6</th>\n",
       "      <td>3</td>\n",
       "      <td>78.0</td>\n",
       "      <td>50.0</td>\n",
       "      <td>32.0</td>\n",
       "      <td>88.0</td>\n",
       "      <td>31.0</td>\n",
       "      <td>0.248</td>\n",
       "      <td>26</td>\n",
       "      <td>1</td>\n",
       "    </tr>\n",
       "    <tr>\n",
       "      <th>8</th>\n",
       "      <td>2</td>\n",
       "      <td>197.0</td>\n",
       "      <td>70.0</td>\n",
       "      <td>45.0</td>\n",
       "      <td>543.0</td>\n",
       "      <td>30.5</td>\n",
       "      <td>0.158</td>\n",
       "      <td>53</td>\n",
       "      <td>1</td>\n",
       "    </tr>\n",
       "    <tr>\n",
       "      <th>13</th>\n",
       "      <td>1</td>\n",
       "      <td>189.0</td>\n",
       "      <td>60.0</td>\n",
       "      <td>23.0</td>\n",
       "      <td>846.0</td>\n",
       "      <td>30.1</td>\n",
       "      <td>0.398</td>\n",
       "      <td>59</td>\n",
       "      <td>1</td>\n",
       "    </tr>\n",
       "  </tbody>\n",
       "</table>\n",
       "</div>"
      ],
      "text/plain": [
       "    times_preg  plasma_glucose  blood_pressure  skin_thickness  serum_insulin  \\\n",
       "3            1            89.0            66.0            23.0           94.0   \n",
       "4            0           137.0            40.0            35.0          168.0   \n",
       "6            3            78.0            50.0            32.0           88.0   \n",
       "8            2           197.0            70.0            45.0          543.0   \n",
       "13           1           189.0            60.0            23.0          846.0   \n",
       "\n",
       "     bmi  pedigree_fn  age  result  \n",
       "3   28.1        0.167   21       0  \n",
       "4   43.1        2.288   33       1  \n",
       "6   31.0        0.248   26       1  \n",
       "8   30.5        0.158   53       1  \n",
       "13  30.1        0.398   59       1  "
      ]
     },
     "execution_count": 20,
     "metadata": {},
     "output_type": "execute_result"
    }
   ],
   "source": [
    "standardize_df = df_drop.copy()\n",
    "standardize_df.head()"
   ]
  },
  {
   "cell_type": "markdown",
   "id": "13a09a18-afe6-48eb-b4c9-dc339476313f",
   "metadata": {},
   "source": [
    "**times_preg normalization**"
   ]
  },
  {
   "cell_type": "code",
   "execution_count": 29,
   "id": "564f0207-8d27-444f-b481-467d4100b33d",
   "metadata": {},
   "outputs": [
    {
     "data": {
      "image/png": "[encoded data removed]",
      "text/plain": [
       "<Figure size 432x288 with 1 Axes>"
      ]
     },
     "metadata": {
      "needs_background": "light"
     },
     "output_type": "display_data"
    },
    {
     "data": {
      "image/png": "[encoded data removed]",
      "text/plain": [
       "<Figure size 432x288 with 1 Axes>"
      ]
     },
     "metadata": {
      "needs_background": "light"
     },
     "output_type": "display_data"
    }
   ],
   "source": [
    "standardize_df[['times_preg']].boxplot();\n",
    "plt.show()\n",
    "sns.histplot(standardize_df['times_preg'], kde=True);\n",
    "plt.show()"
   ]
  },
  {
   "cell_type": "code",
   "execution_count": 24,
   "id": "1a8cc83f-7c6d-47a7-9080-306ada247eec",
   "metadata": {},
   "outputs": [
    {
     "data": {
      "text/html": [
       "<div>\n",
       "<style scoped>\n",
       "    .dataframe tbody tr th:only-of-type {\n",
       "        vertical-align: middle;\n",
       "    }\n",
       "\n",
       "    .dataframe tbody tr th {\n",
       "        vertical-align: top;\n",
       "    }\n",
       "\n",
       "    .dataframe thead th {\n",
       "        text-align: right;\n",
       "    }\n",
       "</style>\n",
       "<table border=\"1\" class=\"dataframe\">\n",
       "  <thead>\n",
       "    <tr style=\"text-align: right;\">\n",
       "      <th></th>\n",
       "      <th>times_preg_robust_scaler</th>\n",
       "      <th>times_preg</th>\n",
       "    </tr>\n",
       "  </thead>\n",
       "  <tbody>\n",
       "    <tr>\n",
       "      <th>3</th>\n",
       "      <td>-0.25</td>\n",
       "      <td>1</td>\n",
       "    </tr>\n",
       "    <tr>\n",
       "      <th>4</th>\n",
       "      <td>-0.50</td>\n",
       "      <td>0</td>\n",
       "    </tr>\n",
       "    <tr>\n",
       "      <th>6</th>\n",
       "      <td>0.25</td>\n",
       "      <td>3</td>\n",
       "    </tr>\n",
       "    <tr>\n",
       "      <th>8</th>\n",
       "      <td>0.00</td>\n",
       "      <td>2</td>\n",
       "    </tr>\n",
       "    <tr>\n",
       "      <th>13</th>\n",
       "      <td>-0.25</td>\n",
       "      <td>1</td>\n",
       "    </tr>\n",
       "    <tr>\n",
       "      <th>...</th>\n",
       "      <td>...</td>\n",
       "      <td>...</td>\n",
       "    </tr>\n",
       "    <tr>\n",
       "      <th>753</th>\n",
       "      <td>-0.50</td>\n",
       "      <td>0</td>\n",
       "    </tr>\n",
       "    <tr>\n",
       "      <th>755</th>\n",
       "      <td>-0.25</td>\n",
       "      <td>1</td>\n",
       "    </tr>\n",
       "    <tr>\n",
       "      <th>760</th>\n",
       "      <td>0.00</td>\n",
       "      <td>2</td>\n",
       "    </tr>\n",
       "    <tr>\n",
       "      <th>763</th>\n",
       "      <td>2.00</td>\n",
       "      <td>10</td>\n",
       "    </tr>\n",
       "    <tr>\n",
       "      <th>765</th>\n",
       "      <td>0.75</td>\n",
       "      <td>5</td>\n",
       "    </tr>\n",
       "  </tbody>\n",
       "</table>\n",
       "<p>392 rows × 2 columns</p>\n",
       "</div>"
      ],
      "text/plain": [
       "     times_preg_robust_scaler  times_preg\n",
       "3                       -0.25           1\n",
       "4                       -0.50           0\n",
       "6                        0.25           3\n",
       "8                        0.00           2\n",
       "13                      -0.25           1\n",
       "..                        ...         ...\n",
       "753                     -0.50           0\n",
       "755                     -0.25           1\n",
       "760                      0.00           2\n",
       "763                      2.00          10\n",
       "765                      0.75           5\n",
       "\n",
       "[392 rows x 2 columns]"
      ]
     },
     "execution_count": 24,
     "metadata": {},
     "output_type": "execute_result"
    }
   ],
   "source": [
    "times_preg_scaler = RobustScaler()\n",
    "times_preg_scaler.fit(standardize_df[['times_preg']])\n",
    "\n",
    "standardize_df['times_preg_robust_scaler'] = times_preg_scaler.transform(standardize_df[['times_preg']])\n",
    "standardize_df[['times_preg_robust_scaler', 'times_preg']]"
   ]
  },
  {
   "cell_type": "code",
   "execution_count": 30,
   "id": "10666e8f-70bb-420b-821a-4e87fbb43ac8",
   "metadata": {
    "tags": []
   },
   "outputs": [
    {
     "data": {
      "image/png": "[encoded data removed]",
      "text/plain": [
       "<Figure size 432x288 with 1 Axes>"
      ]
     },
     "metadata": {
      "needs_background": "light"
     },
     "output_type": "display_data"
    },
    {
     "data": {
      "image/png": "[encoded data removed]",
      "text/plain": [
       "<Figure size 432x288 with 1 Axes>"
      ]
     },
     "metadata": {
      "needs_background": "light"
     },
     "output_type": "display_data"
    }
   ],
   "source": [
    "standardize_df[['plasma_glucose']].boxplot();\n",
    "plt.show()\n",
    "sns.histplot(standardize_df['plasma_glucose'], kde=True);\n",
    "plt.show()"
   ]
  },
  {
   "cell_type": "code",
   "execution_count": 28,
   "id": "6f1ea2c3-6daa-4abc-8d65-ec55275c8d1b",
   "metadata": {},
   "outputs": [
    {
     "data": {
      "text/html": [
       "<div>\n",
       "<style scoped>\n",
       "    .dataframe tbody tr th:only-of-type {\n",
       "        vertical-align: middle;\n",
       "    }\n",
       "\n",
       "    .dataframe tbody tr th {\n",
       "        vertical-align: top;\n",
       "    }\n",
       "\n",
       "    .dataframe thead th {\n",
       "        text-align: right;\n",
       "    }\n",
       "</style>\n",
       "<table border=\"1\" class=\"dataframe\">\n",
       "  <thead>\n",
       "    <tr style=\"text-align: right;\">\n",
       "      <th></th>\n",
       "      <th>plasma_glucose_standard_scaler</th>\n",
       "      <th>plasma_glucose</th>\n",
       "    </tr>\n",
       "  </thead>\n",
       "  <tbody>\n",
       "    <tr>\n",
       "      <th>3</th>\n",
       "      <td>-1.091046</td>\n",
       "      <td>89.0</td>\n",
       "    </tr>\n",
       "    <tr>\n",
       "      <th>4</th>\n",
       "      <td>0.466314</td>\n",
       "      <td>137.0</td>\n",
       "    </tr>\n",
       "    <tr>\n",
       "      <th>6</th>\n",
       "      <td>-1.447941</td>\n",
       "      <td>78.0</td>\n",
       "    </tr>\n",
       "    <tr>\n",
       "      <th>8</th>\n",
       "      <td>2.413014</td>\n",
       "      <td>197.0</td>\n",
       "    </tr>\n",
       "    <tr>\n",
       "      <th>13</th>\n",
       "      <td>2.153454</td>\n",
       "      <td>189.0</td>\n",
       "    </tr>\n",
       "    <tr>\n",
       "      <th>...</th>\n",
       "      <td>...</td>\n",
       "      <td>...</td>\n",
       "    </tr>\n",
       "    <tr>\n",
       "      <th>753</th>\n",
       "      <td>1.893894</td>\n",
       "      <td>181.0</td>\n",
       "    </tr>\n",
       "    <tr>\n",
       "      <th>755</th>\n",
       "      <td>0.174309</td>\n",
       "      <td>128.0</td>\n",
       "    </tr>\n",
       "    <tr>\n",
       "      <th>760</th>\n",
       "      <td>-1.123491</td>\n",
       "      <td>88.0</td>\n",
       "    </tr>\n",
       "    <tr>\n",
       "      <th>763</th>\n",
       "      <td>-0.701706</td>\n",
       "      <td>101.0</td>\n",
       "    </tr>\n",
       "    <tr>\n",
       "      <th>765</th>\n",
       "      <td>-0.052806</td>\n",
       "      <td>121.0</td>\n",
       "    </tr>\n",
       "  </tbody>\n",
       "</table>\n",
       "<p>392 rows × 2 columns</p>\n",
       "</div>"
      ],
      "text/plain": [
       "     plasma_glucose_standard_scaler  plasma_glucose\n",
       "3                         -1.091046            89.0\n",
       "4                          0.466314           137.0\n",
       "6                         -1.447941            78.0\n",
       "8                          2.413014           197.0\n",
       "13                         2.153454           189.0\n",
       "..                              ...             ...\n",
       "753                        1.893894           181.0\n",
       "755                        0.174309           128.0\n",
       "760                       -1.123491            88.0\n",
       "763                       -0.701706           101.0\n",
       "765                       -0.052806           121.0\n",
       "\n",
       "[392 rows x 2 columns]"
      ]
     },
     "execution_count": 28,
     "metadata": {},
     "output_type": "execute_result"
    }
   ],
   "source": [
    "plasma_glucose_scaler = StandardScaler()\n",
    "plasma_glucose_scaler.fit(standardize_df[['plasma_glucose']])\n",
    "\n",
    "standardize_df['plasma_glucose_standard_scaler'] = plasma_glucose_scaler.transform(standardize_df[['plasma_glucose']])\n",
    "standardize_df[['plasma_glucose_standard_scaler', 'plasma_glucose']]"
   ]
  },
  {
   "cell_type": "code",
   "execution_count": 31,
   "id": "fb046723-241e-413b-9aaa-443967beea7b",
   "metadata": {},
   "outputs": [
    {
     "data": {
      "image/png": "[encoded data removed]",
      "text/plain": [
       "<Figure size 432x288 with 1 Axes>"
      ]
     },
     "metadata": {
      "needs_background": "light"
     },
     "output_type": "display_data"
    },
    {
     "data": {
      "image/png": "[encoded data removed]",
      "text/plain": [
       "<Figure size 432x288 with 1 Axes>"
      ]
     },
     "metadata": {
      "needs_background": "light"
     },
     "output_type": "display_data"
    }
   ],
   "source": [
    "standardize_df[['blood_pressure']].boxplot();\n",
    "plt.show()\n",
    "sns.histplot(standardize_df['blood_pressure'], kde=True);\n",
    "plt.show()"
   ]
  },
  {
   "cell_type": "code",
   "execution_count": 32,
   "id": "1b0a2b54-9b56-4b17-bca1-555f1f3ad89c",
   "metadata": {},
   "outputs": [
    {
     "data": {
      "text/html": [
       "<div>\n",
       "<style scoped>\n",
       "    .dataframe tbody tr th:only-of-type {\n",
       "        vertical-align: middle;\n",
       "    }\n",
       "\n",
       "    .dataframe tbody tr th {\n",
       "        vertical-align: top;\n",
       "    }\n",
       "\n",
       "    .dataframe thead th {\n",
       "        text-align: right;\n",
       "    }\n",
       "</style>\n",
       "<table border=\"1\" class=\"dataframe\">\n",
       "  <thead>\n",
       "    <tr style=\"text-align: right;\">\n",
       "      <th></th>\n",
       "      <th>blood_pressure_robust_scaler</th>\n",
       "      <th>blood_pressure</th>\n",
       "    </tr>\n",
       "  </thead>\n",
       "  <tbody>\n",
       "    <tr>\n",
       "      <th>3</th>\n",
       "      <td>-0.250</td>\n",
       "      <td>66.0</td>\n",
       "    </tr>\n",
       "    <tr>\n",
       "      <th>4</th>\n",
       "      <td>-1.875</td>\n",
       "      <td>40.0</td>\n",
       "    </tr>\n",
       "    <tr>\n",
       "      <th>6</th>\n",
       "      <td>-1.250</td>\n",
       "      <td>50.0</td>\n",
       "    </tr>\n",
       "    <tr>\n",
       "      <th>8</th>\n",
       "      <td>0.000</td>\n",
       "      <td>70.0</td>\n",
       "    </tr>\n",
       "    <tr>\n",
       "      <th>13</th>\n",
       "      <td>-0.625</td>\n",
       "      <td>60.0</td>\n",
       "    </tr>\n",
       "    <tr>\n",
       "      <th>...</th>\n",
       "      <td>...</td>\n",
       "      <td>...</td>\n",
       "    </tr>\n",
       "    <tr>\n",
       "      <th>753</th>\n",
       "      <td>1.125</td>\n",
       "      <td>88.0</td>\n",
       "    </tr>\n",
       "    <tr>\n",
       "      <th>755</th>\n",
       "      <td>1.125</td>\n",
       "      <td>88.0</td>\n",
       "    </tr>\n",
       "    <tr>\n",
       "      <th>760</th>\n",
       "      <td>-0.750</td>\n",
       "      <td>58.0</td>\n",
       "    </tr>\n",
       "    <tr>\n",
       "      <th>763</th>\n",
       "      <td>0.375</td>\n",
       "      <td>76.0</td>\n",
       "    </tr>\n",
       "    <tr>\n",
       "      <th>765</th>\n",
       "      <td>0.125</td>\n",
       "      <td>72.0</td>\n",
       "    </tr>\n",
       "  </tbody>\n",
       "</table>\n",
       "<p>392 rows × 2 columns</p>\n",
       "</div>"
      ],
      "text/plain": [
       "     blood_pressure_robust_scaler  blood_pressure\n",
       "3                          -0.250            66.0\n",
       "4                          -1.875            40.0\n",
       "6                          -1.250            50.0\n",
       "8                           0.000            70.0\n",
       "13                         -0.625            60.0\n",
       "..                            ...             ...\n",
       "753                         1.125            88.0\n",
       "755                         1.125            88.0\n",
       "760                        -0.750            58.0\n",
       "763                         0.375            76.0\n",
       "765                         0.125            72.0\n",
       "\n",
       "[392 rows x 2 columns]"
      ]
     },
     "execution_count": 32,
     "metadata": {},
     "output_type": "execute_result"
    }
   ],
   "source": [
    "blood_pressure_scaler = RobustScaler()\n",
    "blood_pressure_scaler.fit(standardize_df[['blood_pressure']])\n",
    "\n",
    "standardize_df['blood_pressure_robust_scaler'] = blood_pressure_scaler.transform(standardize_df[['blood_pressure']])\n",
    "standardize_df[['blood_pressure_robust_scaler', 'blood_pressure']]"
   ]
  },
  {
   "cell_type": "code",
   "execution_count": 33,
   "id": "7a9c1167-5031-444c-9b9d-dde2af533d72",
   "metadata": {},
   "outputs": [
    {
     "data": {
      "image/png": "[encoded data removed]",
      "text/plain": [
       "<Figure size 432x288 with 1 Axes>"
      ]
     },
     "metadata": {
      "needs_background": "light"
     },
     "output_type": "display_data"
    },
    {
     "data": {
      "image/png": "[encoded data removed]",
      "text/plain": [
       "<Figure size 432x288 with 1 Axes>"
      ]
     },
     "metadata": {
      "needs_background": "light"
     },
     "output_type": "display_data"
    }
   ],
   "source": [
    "standardize_df[['skin_thickness']].boxplot();\n",
    "plt.show()\n",
    "sns.histplot(standardize_df['skin_thickness'], kde=True);\n",
    "plt.show()"
   ]
  },
  {
   "cell_type": "code",
   "execution_count": 34,
   "id": "5e09ff01-7905-4f26-b847-f775e4d6fd06",
   "metadata": {},
   "outputs": [
    {
     "data": {
      "text/html": [
       "<div>\n",
       "<style scoped>\n",
       "    .dataframe tbody tr th:only-of-type {\n",
       "        vertical-align: middle;\n",
       "    }\n",
       "\n",
       "    .dataframe tbody tr th {\n",
       "        vertical-align: top;\n",
       "    }\n",
       "\n",
       "    .dataframe thead th {\n",
       "        text-align: right;\n",
       "    }\n",
       "</style>\n",
       "<table border=\"1\" class=\"dataframe\">\n",
       "  <thead>\n",
       "    <tr style=\"text-align: right;\">\n",
       "      <th></th>\n",
       "      <th>skin_thickness_robust_scaler</th>\n",
       "      <th>skin_thickness</th>\n",
       "    </tr>\n",
       "  </thead>\n",
       "  <tbody>\n",
       "    <tr>\n",
       "      <th>3</th>\n",
       "      <td>-0.3750</td>\n",
       "      <td>23.0</td>\n",
       "    </tr>\n",
       "    <tr>\n",
       "      <th>4</th>\n",
       "      <td>0.3750</td>\n",
       "      <td>35.0</td>\n",
       "    </tr>\n",
       "    <tr>\n",
       "      <th>6</th>\n",
       "      <td>0.1875</td>\n",
       "      <td>32.0</td>\n",
       "    </tr>\n",
       "    <tr>\n",
       "      <th>8</th>\n",
       "      <td>1.0000</td>\n",
       "      <td>45.0</td>\n",
       "    </tr>\n",
       "    <tr>\n",
       "      <th>13</th>\n",
       "      <td>-0.3750</td>\n",
       "      <td>23.0</td>\n",
       "    </tr>\n",
       "    <tr>\n",
       "      <th>...</th>\n",
       "      <td>...</td>\n",
       "      <td>...</td>\n",
       "    </tr>\n",
       "    <tr>\n",
       "      <th>753</th>\n",
       "      <td>0.9375</td>\n",
       "      <td>44.0</td>\n",
       "    </tr>\n",
       "    <tr>\n",
       "      <th>755</th>\n",
       "      <td>0.6250</td>\n",
       "      <td>39.0</td>\n",
       "    </tr>\n",
       "    <tr>\n",
       "      <th>760</th>\n",
       "      <td>-0.1875</td>\n",
       "      <td>26.0</td>\n",
       "    </tr>\n",
       "    <tr>\n",
       "      <th>763</th>\n",
       "      <td>1.1875</td>\n",
       "      <td>48.0</td>\n",
       "    </tr>\n",
       "    <tr>\n",
       "      <th>765</th>\n",
       "      <td>-0.3750</td>\n",
       "      <td>23.0</td>\n",
       "    </tr>\n",
       "  </tbody>\n",
       "</table>\n",
       "<p>392 rows × 2 columns</p>\n",
       "</div>"
      ],
      "text/plain": [
       "     skin_thickness_robust_scaler  skin_thickness\n",
       "3                         -0.3750            23.0\n",
       "4                          0.3750            35.0\n",
       "6                          0.1875            32.0\n",
       "8                          1.0000            45.0\n",
       "13                        -0.3750            23.0\n",
       "..                            ...             ...\n",
       "753                        0.9375            44.0\n",
       "755                        0.6250            39.0\n",
       "760                       -0.1875            26.0\n",
       "763                        1.1875            48.0\n",
       "765                       -0.3750            23.0\n",
       "\n",
       "[392 rows x 2 columns]"
      ]
     },
     "execution_count": 34,
     "metadata": {},
     "output_type": "execute_result"
    }
   ],
   "source": [
    "skin_thickness_scaler = RobustScaler()\n",
    "skin_thickness_scaler.fit(standardize_df[['skin_thickness']])\n",
    "\n",
    "standardize_df['skin_thickness_robust_scaler'] = skin_thickness_scaler.transform(standardize_df[['skin_thickness']])\n",
    "standardize_df[['skin_thickness_robust_scaler', 'skin_thickness']]"
   ]
  },
  {
   "cell_type": "code",
   "execution_count": 35,
   "id": "33de77b1-d1e7-449e-a057-5f7ae10a8d8b",
   "metadata": {},
   "outputs": [
    {
     "data": {
      "image/png": "[encoded data removed]",
      "text/plain": [
       "<Figure size 432x288 with 1 Axes>"
      ]
     },
     "metadata": {
      "needs_background": "light"
     },
     "output_type": "display_data"
    },
    {
     "data": {
      "image/png": "[encoded data removed]",
      "text/plain": [
       "<Figure size 432x288 with 1 Axes>"
      ]
     },
     "metadata": {
      "needs_background": "light"
     },
     "output_type": "display_data"
    }
   ],
   "source": [
    "standardize_df[['serum_insulin']].boxplot();\n",
    "plt.show()\n",
    "sns.histplot(standardize_df['serum_insulin'], kde=True);\n",
    "plt.show()\n"
   ]
  },
  {
   "cell_type": "markdown",
   "id": "921dcfda-e944-451c-9926-348ff78c443f",
   "metadata": {},
   "source": [
    "**First scale then normalize**"
   ]
  },
  {
   "cell_type": "code",
   "execution_count": 37,
   "id": "5ab42b8f-92a7-43b8-8a23-ca0d86dcb048",
   "metadata": {},
   "outputs": [
    {
     "data": {
      "text/html": [
       "<div>\n",
       "<style scoped>\n",
       "    .dataframe tbody tr th:only-of-type {\n",
       "        vertical-align: middle;\n",
       "    }\n",
       "\n",
       "    .dataframe tbody tr th {\n",
       "        vertical-align: top;\n",
       "    }\n",
       "\n",
       "    .dataframe thead th {\n",
       "        text-align: right;\n",
       "    }\n",
       "</style>\n",
       "<table border=\"1\" class=\"dataframe\">\n",
       "  <thead>\n",
       "    <tr style=\"text-align: right;\">\n",
       "      <th></th>\n",
       "      <th>serum_insulin_robust_scaler</th>\n",
       "      <th>serum_insulin</th>\n",
       "    </tr>\n",
       "  </thead>\n",
       "  <tbody>\n",
       "    <tr>\n",
       "      <th>3</th>\n",
       "      <td>-0.278146</td>\n",
       "      <td>94.0</td>\n",
       "    </tr>\n",
       "    <tr>\n",
       "      <th>4</th>\n",
       "      <td>0.375276</td>\n",
       "      <td>168.0</td>\n",
       "    </tr>\n",
       "    <tr>\n",
       "      <th>6</th>\n",
       "      <td>-0.331126</td>\n",
       "      <td>88.0</td>\n",
       "    </tr>\n",
       "    <tr>\n",
       "      <th>8</th>\n",
       "      <td>3.686534</td>\n",
       "      <td>543.0</td>\n",
       "    </tr>\n",
       "    <tr>\n",
       "      <th>13</th>\n",
       "      <td>6.362031</td>\n",
       "      <td>846.0</td>\n",
       "    </tr>\n",
       "    <tr>\n",
       "      <th>...</th>\n",
       "      <td>...</td>\n",
       "      <td>...</td>\n",
       "    </tr>\n",
       "    <tr>\n",
       "      <th>753</th>\n",
       "      <td>3.395143</td>\n",
       "      <td>510.0</td>\n",
       "    </tr>\n",
       "    <tr>\n",
       "      <th>755</th>\n",
       "      <td>-0.136865</td>\n",
       "      <td>110.0</td>\n",
       "    </tr>\n",
       "    <tr>\n",
       "      <th>760</th>\n",
       "      <td>-0.966887</td>\n",
       "      <td>16.0</td>\n",
       "    </tr>\n",
       "    <tr>\n",
       "      <th>763</th>\n",
       "      <td>0.481236</td>\n",
       "      <td>180.0</td>\n",
       "    </tr>\n",
       "    <tr>\n",
       "      <th>765</th>\n",
       "      <td>-0.119205</td>\n",
       "      <td>112.0</td>\n",
       "    </tr>\n",
       "  </tbody>\n",
       "</table>\n",
       "<p>392 rows × 2 columns</p>\n",
       "</div>"
      ],
      "text/plain": [
       "     serum_insulin_robust_scaler  serum_insulin\n",
       "3                      -0.278146           94.0\n",
       "4                       0.375276          168.0\n",
       "6                      -0.331126           88.0\n",
       "8                       3.686534          543.0\n",
       "13                      6.362031          846.0\n",
       "..                           ...            ...\n",
       "753                     3.395143          510.0\n",
       "755                    -0.136865          110.0\n",
       "760                    -0.966887           16.0\n",
       "763                     0.481236          180.0\n",
       "765                    -0.119205          112.0\n",
       "\n",
       "[392 rows x 2 columns]"
      ]
     },
     "execution_count": 37,
     "metadata": {},
     "output_type": "execute_result"
    }
   ],
   "source": [
    "serum_insulin_scaler = RobustScaler()\n",
    "serum_insulin_scaler.fit(standardize_df[['serum_insulin']])\n",
    "\n",
    "standardize_df['serum_insulin_robust_scaler'] = serum_insulin_scaler.transform(standardize_df[['serum_insulin']])\n",
    "standardize_df[['serum_insulin_robust_scaler', 'serum_insulin']]\n"
   ]
  },
  {
   "cell_type": "code",
   "execution_count": 38,
   "id": "4b680c91-ccd8-45a3-b2f5-d2ddedc39f06",
   "metadata": {},
   "outputs": [
    {
     "data": {
      "image/png": "[encoded data removed]",
      "text/plain": [
       "<Figure size 432x288 with 1 Axes>"
      ]
     },
     "metadata": {
      "needs_background": "light"
     },
     "output_type": "display_data"
    }
   ],
   "source": [
    "sns.histplot(standardize_df['serum_insulin_robust_scaler'], kde=True);"
   ]
  },
  {
   "cell_type": "code",
   "execution_count": 40,
   "id": "3952a48b-a0e4-42ef-a0ff-c052b0a7a6e8",
   "metadata": {},
   "outputs": [
    {
     "data": {
      "text/html": [
       "<div>\n",
       "<style scoped>\n",
       "    .dataframe tbody tr th:only-of-type {\n",
       "        vertical-align: middle;\n",
       "    }\n",
       "\n",
       "    .dataframe tbody tr th {\n",
       "        vertical-align: top;\n",
       "    }\n",
       "\n",
       "    .dataframe thead th {\n",
       "        text-align: right;\n",
       "    }\n",
       "</style>\n",
       "<table border=\"1\" class=\"dataframe\">\n",
       "  <thead>\n",
       "    <tr style=\"text-align: right;\">\n",
       "      <th></th>\n",
       "      <th>serum_insulin_min_max_scaler</th>\n",
       "      <th>serum_insulin</th>\n",
       "    </tr>\n",
       "  </thead>\n",
       "  <tbody>\n",
       "    <tr>\n",
       "      <th>3</th>\n",
       "      <td>0.096154</td>\n",
       "      <td>94.0</td>\n",
       "    </tr>\n",
       "    <tr>\n",
       "      <th>4</th>\n",
       "      <td>0.185096</td>\n",
       "      <td>168.0</td>\n",
       "    </tr>\n",
       "    <tr>\n",
       "      <th>6</th>\n",
       "      <td>0.088942</td>\n",
       "      <td>88.0</td>\n",
       "    </tr>\n",
       "    <tr>\n",
       "      <th>8</th>\n",
       "      <td>0.635817</td>\n",
       "      <td>543.0</td>\n",
       "    </tr>\n",
       "    <tr>\n",
       "      <th>13</th>\n",
       "      <td>1.000000</td>\n",
       "      <td>846.0</td>\n",
       "    </tr>\n",
       "    <tr>\n",
       "      <th>...</th>\n",
       "      <td>...</td>\n",
       "      <td>...</td>\n",
       "    </tr>\n",
       "    <tr>\n",
       "      <th>753</th>\n",
       "      <td>0.596154</td>\n",
       "      <td>510.0</td>\n",
       "    </tr>\n",
       "    <tr>\n",
       "      <th>755</th>\n",
       "      <td>0.115385</td>\n",
       "      <td>110.0</td>\n",
       "    </tr>\n",
       "    <tr>\n",
       "      <th>760</th>\n",
       "      <td>0.002404</td>\n",
       "      <td>16.0</td>\n",
       "    </tr>\n",
       "    <tr>\n",
       "      <th>763</th>\n",
       "      <td>0.199519</td>\n",
       "      <td>180.0</td>\n",
       "    </tr>\n",
       "    <tr>\n",
       "      <th>765</th>\n",
       "      <td>0.117788</td>\n",
       "      <td>112.0</td>\n",
       "    </tr>\n",
       "  </tbody>\n",
       "</table>\n",
       "<p>392 rows × 2 columns</p>\n",
       "</div>"
      ],
      "text/plain": [
       "     serum_insulin_min_max_scaler  serum_insulin\n",
       "3                        0.096154           94.0\n",
       "4                        0.185096          168.0\n",
       "6                        0.088942           88.0\n",
       "8                        0.635817          543.0\n",
       "13                       1.000000          846.0\n",
       "..                            ...            ...\n",
       "753                      0.596154          510.0\n",
       "755                      0.115385          110.0\n",
       "760                      0.002404           16.0\n",
       "763                      0.199519          180.0\n",
       "765                      0.117788          112.0\n",
       "\n",
       "[392 rows x 2 columns]"
      ]
     },
     "execution_count": 40,
     "metadata": {},
     "output_type": "execute_result"
    }
   ],
   "source": [
    "serum_insulin_min_max_scaler = MinMaxScaler()\n",
    "serum_insulin_min_max_scaler.fit(standardize_df[['serum_insulin']])\n",
    "\n",
    "standardize_df['serum_insulin_min_max_scaler'] = serum_insulin_min_max_scaler.transform(standardize_df[['serum_insulin']])\n",
    "standardize_df[['serum_insulin_min_max_scaler', 'serum_insulin']]\n"
   ]
  },
  {
   "cell_type": "code",
   "execution_count": 41,
   "id": "4aa26be8-245b-487c-ade0-2569b05f2ae9",
   "metadata": {},
   "outputs": [
    {
     "data": {
      "image/png": "[encoded data removed]",
      "text/plain": [
       "<Figure size 432x288 with 1 Axes>"
      ]
     },
     "metadata": {
      "needs_background": "light"
     },
     "output_type": "display_data"
    }
   ],
   "source": [
    "sns.histplot(standardize_df['serum_insulin_min_max_scaler'], kde=True);"
   ]
  },
  {
   "cell_type": "code",
   "execution_count": 46,
   "id": "ee4c120c-8a2b-417d-895e-b379ba06f88c",
   "metadata": {},
   "outputs": [
    {
     "name": "stderr",
     "output_type": "stream",
     "text": [
      "/Users/dbd/.pyenv/versions/3.8.13/envs/lewagon/lib/python3.8/site-packages/pandas/core/arraylike.py:364: RuntimeWarning: divide by zero encountered in log\n",
      "  result = getattr(ufunc, method)(*inputs, **kwargs)\n"
     ]
    },
    {
     "data": {
      "image/png": "[encoded data removed]",
      "text/plain": [
       "<Figure size 432x288 with 1 Axes>"
      ]
     },
     "metadata": {
      "needs_background": "light"
     },
     "output_type": "display_data"
    }
   ],
   "source": [
    "standardize_df['serum_insulin_min_max_scaler_log_norm'] = np.log(standardize_df['serum_insulin_min_max_scaler'])\n",
    "sns.histplot(standardize_df['serum_insulin_min_max_scaler_log_norm'], kde=True);"
   ]
  },
  {
   "cell_type": "code",
   "execution_count": 47,
   "id": "9623fe29-8a67-45a7-a448-ab2af0182286",
   "metadata": {},
   "outputs": [
    {
     "data": {
      "image/png": "[encoded data removed]",
      "text/plain": [
       "<Figure size 432x288 with 1 Axes>"
      ]
     },
     "metadata": {
      "needs_background": "light"
     },
     "output_type": "display_data"
    }
   ],
   "source": [
    "standardize_df['serum_insulin_log_norm'] = np.log(standardize_df['serum_insulin'])\n",
    "sns.histplot(standardize_df['serum_insulin_log_norm'], kde=True);"
   ]
  },
  {
   "cell_type": "code",
   "execution_count": 48,
   "id": "20cc5d91-9aa7-4df4-8e2e-77651911b2fe",
   "metadata": {},
   "outputs": [
    {
     "data": {
      "text/plain": [
       "<AxesSubplot:>"
      ]
     },
     "execution_count": 48,
     "metadata": {},
     "output_type": "execute_result"
    },
    {
     "data": {
      "image/png": "[encoded data removed]",
      "text/plain": [
       "<Figure size 432x288 with 1 Axes>"
      ]
     },
     "metadata": {
      "needs_background": "light"
     },
     "output_type": "display_data"
    }
   ],
   "source": [
    "standardize_df[['serum_insulin_log_norm']].boxplot()"
   ]
  },
  {
   "cell_type": "code",
   "execution_count": 52,
   "id": "3b3ee8cc-54b2-4d12-abf8-a62f48be8fb2",
   "metadata": {},
   "outputs": [
    {
     "data": {
      "image/png": "[encoded data removed]",
      "text/plain": [
       "<Figure size 432x288 with 1 Axes>"
      ]
     },
     "metadata": {
      "needs_background": "light"
     },
     "output_type": "display_data"
    }
   ],
   "source": [
    "serum_insulin_log_norm_scaler = RobustScaler()\n",
    "serum_insulin_log_norm_scaler.fit(standardize_df[['serum_insulin_log_norm']])\n",
    "\n",
    "standardize_df['serum_insulin_log_norm_scaler'] = serum_insulin_log_norm_scaler.transform(standardize_df[['serum_insulin_log_norm']])\n",
    "sns.histplot(standardize_df['serum_insulin_log_norm_scaler'], kde=True);\n"
   ]
  },
  {
   "cell_type": "markdown",
   "id": "f9f3c129-8472-4aea-974c-acc2036e7f28",
   "metadata": {},
   "source": [
    "## USE THIS ONE FOR SERUM INSULIN ##"
   ]
  },
  {
   "cell_type": "code",
   "execution_count": 50,
   "id": "2cbef5f4-9676-4cae-a6e7-1ff108adcd2e",
   "metadata": {},
   "outputs": [
    {
     "data": {
      "image/png": "[encoded data removed]",
      "text/plain": [
       "<Figure size 432x288 with 1 Axes>"
      ]
     },
     "metadata": {
      "needs_background": "light"
     },
     "output_type": "display_data"
    }
   ],
   "source": [
    "serum_insulin_log_norm_min_max_scaler = MinMaxScaler()\n",
    "serum_insulin_log_norm_min_max_scaler.fit(standardize_df[['serum_insulin_log_norm']])\n",
    "\n",
    "standardize_df['serum_insulin_log_norm_min_max_scaler'] = serum_insulin_log_norm_min_max_scaler.transform(standardize_df[['serum_insulin_log_norm']])\n",
    "sns.histplot(standardize_df['serum_insulin_log_norm_min_max_scaler'], kde=True);"
   ]
  },
  {
   "cell_type": "code",
   "execution_count": 53,
   "id": "b1323fd6-d7ed-4408-80f5-9944fa28db2d",
   "metadata": {},
   "outputs": [
    {
     "data": {
      "image/png": "[encoded data removed]",
      "text/plain": [
       "<Figure size 432x288 with 1 Axes>"
      ]
     },
     "metadata": {
      "needs_background": "light"
     },
     "output_type": "display_data"
    },
    {
     "data": {
      "image/png": "[encoded data removed]",
      "text/plain": [
       "<Figure size 432x288 with 1 Axes>"
      ]
     },
     "metadata": {
      "needs_background": "light"
     },
     "output_type": "display_data"
    }
   ],
   "source": [
    "standardize_df[['bmi']].boxplot();\n",
    "plt.show()\n",
    "sns.histplot(standardize_df['bmi'], kde=True);\n",
    "plt.show()"
   ]
  },
  {
   "cell_type": "code",
   "execution_count": 54,
   "id": "16fe99fd-b639-4682-94f8-1d9e9b8527f6",
   "metadata": {},
   "outputs": [
    {
     "data": {
      "image/png": "[encoded data removed]",
      "text/plain": [
       "<Figure size 432x288 with 1 Axes>"
      ]
     },
     "metadata": {
      "needs_background": "light"
     },
     "output_type": "display_data"
    }
   ],
   "source": [
    "bmi_robust_scaler = RobustScaler()\n",
    "bmi_robust_scaler.fit(standardize_df[['bmi']])\n",
    "\n",
    "standardize_df['bmi_scaler'] = bmi_robust_scaler.transform(standardize_df[['bmi']])\n",
    "sns.histplot(standardize_df['bmi_scaler'], kde=True);\n"
   ]
  },
  {
   "cell_type": "code",
   "execution_count": 55,
   "id": "99a3de50-0995-47cd-a938-0e0173db86bb",
   "metadata": {},
   "outputs": [
    {
     "data": {
      "image/png": "[encoded data removed]",
      "text/plain": [
       "<Figure size 432x288 with 1 Axes>"
      ]
     },
     "metadata": {
      "needs_background": "light"
     },
     "output_type": "display_data"
    },
    {
     "data": {
      "image/png": "[encoded data removed]",
      "text/plain": [
       "<Figure size 432x288 with 1 Axes>"
      ]
     },
     "metadata": {
      "needs_background": "light"
     },
     "output_type": "display_data"
    }
   ],
   "source": [
    "standardize_df[['pedigree_fn']].boxplot();\n",
    "plt.show()\n",
    "sns.histplot(standardize_df['pedigree_fn'], kde=True);\n",
    "plt.show()\n"
   ]
  },
  {
   "cell_type": "code",
   "execution_count": 56,
   "id": "67c77b2e-ce60-4bb4-8ab7-634c8f271244",
   "metadata": {},
   "outputs": [
    {
     "data": {
      "image/png": "[encoded data removed]",
      "text/plain": [
       "<Figure size 432x288 with 1 Axes>"
      ]
     },
     "metadata": {
      "needs_background": "light"
     },
     "output_type": "display_data"
    }
   ],
   "source": [
    "pedigree_fn_robust_scaler = RobustScaler()\n",
    "pedigree_fn_robust_scaler.fit(standardize_df[['pedigree_fn']])\n",
    "\n",
    "standardize_df['pedigree_fn_scaler'] = pedigree_fn_robust_scaler.transform(standardize_df[['pedigree_fn']])\n",
    "sns.histplot(standardize_df['pedigree_fn_scaler'], kde=True);"
   ]
  },
  {
   "cell_type": "code",
   "execution_count": 58,
   "id": "212feebc-932b-4a6e-ad64-c41f7c044a42",
   "metadata": {},
   "outputs": [
    {
     "data": {
      "image/png": "[encoded data removed]",
      "text/plain": [
       "<Figure size 432x288 with 1 Axes>"
      ]
     },
     "metadata": {
      "needs_background": "light"
     },
     "output_type": "display_data"
    },
    {
     "data": {
      "image/png": "[encoded data removed]",
      "text/plain": [
       "<Figure size 432x288 with 1 Axes>"
      ]
     },
     "metadata": {
      "needs_background": "light"
     },
     "output_type": "display_data"
    }
   ],
   "source": [
    "standardize_df['pedigree_fn_log_norm'] = np.log(standardize_df['pedigree_fn'])\n",
    "sns.histplot(standardize_df['pedigree_fn_log_norm'], kde=True);\n",
    "plt.show()\n",
    "standardize_df[['pedigree_fn_log_norm']].boxplot()\n",
    "plt.show()"
   ]
  },
  {
   "cell_type": "code",
   "execution_count": 59,
   "id": "7e1dd7a4-7290-4a29-8983-6fc4ddc3e345",
   "metadata": {},
   "outputs": [
    {
     "data": {
      "image/png": "[encoded data removed]",
      "text/plain": [
       "<Figure size 432x288 with 1 Axes>"
      ]
     },
     "metadata": {
      "needs_background": "light"
     },
     "output_type": "display_data"
    }
   ],
   "source": [
    "pedigree_fn_log_norm_standard_scaler = StandardScaler()\n",
    "pedigree_fn_log_norm_standard_scaler.fit(standardize_df[['pedigree_fn_log_norm']])\n",
    "\n",
    "standardize_df['pedigree_fn_log_norm_scaler'] = pedigree_fn_log_norm_standard_scaler.transform(standardize_df[['pedigree_fn_log_norm']])\n",
    "sns.histplot(standardize_df['pedigree_fn_log_norm_scaler'], kde=True);\n"
   ]
  },
  {
   "cell_type": "code",
   "execution_count": 62,
   "id": "f81656af-a7fd-4d67-b800-9e8872369189",
   "metadata": {},
   "outputs": [
    {
     "data": {
      "image/png": "[encoded data removed]",
      "text/plain": [
       "<Figure size 432x288 with 1 Axes>"
      ]
     },
     "metadata": {
      "needs_background": "light"
     },
     "output_type": "display_data"
    },
    {
     "data": {
      "image/png": "[encoded data removed]",
      "text/plain": [
       "<Figure size 432x288 with 1 Axes>"
      ]
     },
     "metadata": {
      "needs_background": "light"
     },
     "output_type": "display_data"
    }
   ],
   "source": [
    "standardize_df[['age']].boxplot();\n",
    "plt.show()\n",
    "sns.histplot(standardize_df['age'], kde=True);\n",
    "plt.show()"
   ]
  },
  {
   "cell_type": "code",
   "execution_count": 63,
   "id": "f69eac64-b3cf-4a54-8516-da86a254bff5",
   "metadata": {},
   "outputs": [
    {
     "data": {
      "text/plain": [
       "age    1.403607\n",
       "dtype: float64"
      ]
     },
     "execution_count": 63,
     "metadata": {},
     "output_type": "execute_result"
    }
   ],
   "source": [
    "standardize_df[['age']].skew()"
   ]
  },
  {
   "cell_type": "code",
   "execution_count": 66,
   "id": "6e506fa8-fdb7-432a-a325-6bb8d5c69a16",
   "metadata": {},
   "outputs": [
    {
     "data": {
      "image/png": "[encoded data removed]",
      "text/plain": [
       "<Figure size 432x288 with 1 Axes>"
      ]
     },
     "metadata": {
      "needs_background": "light"
     },
     "output_type": "display_data"
    },
    {
     "data": {
      "image/png": "[encoded data removed]",
      "text/plain": [
       "<Figure size 432x288 with 1 Axes>"
      ]
     },
     "metadata": {
      "needs_background": "light"
     },
     "output_type": "display_data"
    }
   ],
   "source": [
    "standardize_df['age_log_skew'] = np.log(standardize_df['age'])\n",
    "sns.histplot(standardize_df['age_log_norm'], kde=True);\n",
    "plt.show()\n",
    "standardize_df[['age_log_norm']].boxplot()\n",
    "plt.show()"
   ]
  },
  {
   "cell_type": "code",
   "execution_count": 67,
   "id": "e3bd643c-f46c-4dcc-91c2-6a84508640c8",
   "metadata": {},
   "outputs": [
    {
     "data": {
      "text/plain": [
       "age_log_norm    0.855685\n",
       "dtype: float64"
      ]
     },
     "execution_count": 67,
     "metadata": {},
     "output_type": "execute_result"
    }
   ],
   "source": [
    "standardize_df[['age_log_norm']].skew()"
   ]
  },
  {
   "cell_type": "code",
   "execution_count": 70,
   "id": "995ade13-cf40-4219-bd5e-d4a8460ab5e2",
   "metadata": {},
   "outputs": [
    {
     "data": {
      "image/png": "[encoded data removed]",
      "text/plain": [
       "<Figure size 432x288 with 1 Axes>"
      ]
     },
     "metadata": {
      "needs_background": "light"
     },
     "output_type": "display_data"
    },
    {
     "data": {
      "image/png": "[encoded data removed]",
      "text/plain": [
       "<Figure size 432x288 with 1 Axes>"
      ]
     },
     "metadata": {
      "needs_background": "light"
     },
     "output_type": "display_data"
    }
   ],
   "source": [
    "\n",
    "\n",
    "standardize_df['age_sqroot'] = np.sqrt(standardize_df['age'])\n",
    "sns.histplot(standardize_df['age_sqroot'], kde=True);\n",
    "plt.show()\n",
    "standardize_df[['age_sqroot']].boxplot()\n",
    "plt.show()"
   ]
  },
  {
   "cell_type": "code",
   "execution_count": 75,
   "id": "286da06a-7e22-4f73-a0a0-163d03352f80",
   "metadata": {},
   "outputs": [
    {
     "data": {
      "text/plain": [
       "age_sqroot    1.105816\n",
       "dtype: float64"
      ]
     },
     "execution_count": 75,
     "metadata": {},
     "output_type": "execute_result"
    }
   ],
   "source": [
    "standardize_df[['age_sqroot']].skew()"
   ]
  },
  {
   "cell_type": "markdown",
   "id": "5ab85c71-ef0f-4eb4-a859-09208b6bde04",
   "metadata": {},
   "source": [
    "# Use THIS for age #"
   ]
  },
  {
   "cell_type": "code",
   "execution_count": 73,
   "id": "ac1d11a9-e95a-4093-96e0-6171ccaf4c75",
   "metadata": {},
   "outputs": [
    {
     "data": {
      "image/png": "[encoded data removed]",
      "text/plain": [
       "<Figure size 432x288 with 1 Axes>"
      ]
     },
     "metadata": {
      "needs_background": "light"
     },
     "output_type": "display_data"
    },
    {
     "data": {
      "image/png": "[encoded data removed]",
      "text/plain": [
       "<Figure size 432x288 with 1 Axes>"
      ]
     },
     "metadata": {
      "needs_background": "light"
     },
     "output_type": "display_data"
    }
   ],
   "source": [
    "from scipy import stats\n",
    "standardize_df['age_boxcox'] = stats.boxcox(standardize_df['age'])[0]\n",
    "sns.histplot(standardize_df['age_boxcox'], kde=True);\n",
    "plt.show()\n",
    "standardize_df[['age_boxcox']].boxplot()\n",
    "plt.show()"
   ]
  },
  {
   "cell_type": "code",
   "execution_count": 74,
   "id": "114e8a18-d352-419d-aade-cfa03b98d2e6",
   "metadata": {},
   "outputs": [
    {
     "data": {
      "text/plain": [
       "age_boxcox    0.210831\n",
       "dtype: float64"
      ]
     },
     "execution_count": 74,
     "metadata": {},
     "output_type": "execute_result"
    }
   ],
   "source": [
    "standardize_df[['age_boxcox']].skew()"
   ]
  },
  {
   "cell_type": "code",
   "execution_count": 76,
   "id": "0d4e0cac-f276-420a-9088-22d851199422",
   "metadata": {},
   "outputs": [
    {
     "data": {
      "text/html": [
       "<div>\n",
       "<style scoped>\n",
       "    .dataframe tbody tr th:only-of-type {\n",
       "        vertical-align: middle;\n",
       "    }\n",
       "\n",
       "    .dataframe tbody tr th {\n",
       "        vertical-align: top;\n",
       "    }\n",
       "\n",
       "    .dataframe thead th {\n",
       "        text-align: right;\n",
       "    }\n",
       "</style>\n",
       "<table border=\"1\" class=\"dataframe\">\n",
       "  <thead>\n",
       "    <tr style=\"text-align: right;\">\n",
       "      <th></th>\n",
       "      <th>age_boxcox_scaler</th>\n",
       "      <th>age_boxcox</th>\n",
       "    </tr>\n",
       "  </thead>\n",
       "  <tbody>\n",
       "    <tr>\n",
       "      <th>3</th>\n",
       "      <td>-1.484429</td>\n",
       "      <td>0.591234</td>\n",
       "    </tr>\n",
       "    <tr>\n",
       "      <th>4</th>\n",
       "      <td>0.634773</td>\n",
       "      <td>0.593129</td>\n",
       "    </tr>\n",
       "    <tr>\n",
       "      <th>6</th>\n",
       "      <td>-0.283363</td>\n",
       "      <td>0.592308</td>\n",
       "    </tr>\n",
       "    <tr>\n",
       "      <th>8</th>\n",
       "      <td>1.657291</td>\n",
       "      <td>0.594043</td>\n",
       "    </tr>\n",
       "    <tr>\n",
       "      <th>13</th>\n",
       "      <td>1.795811</td>\n",
       "      <td>0.594167</td>\n",
       "    </tr>\n",
       "    <tr>\n",
       "      <th>...</th>\n",
       "      <td>...</td>\n",
       "      <td>...</td>\n",
       "    </tr>\n",
       "    <tr>\n",
       "      <th>753</th>\n",
       "      <td>-0.283363</td>\n",
       "      <td>0.592308</td>\n",
       "    </tr>\n",
       "    <tr>\n",
       "      <th>755</th>\n",
       "      <td>0.960612</td>\n",
       "      <td>0.593420</td>\n",
       "    </tr>\n",
       "    <tr>\n",
       "      <th>760</th>\n",
       "      <td>-1.184909</td>\n",
       "      <td>0.591502</td>\n",
       "    </tr>\n",
       "    <tr>\n",
       "      <th>763</th>\n",
       "      <td>1.869018</td>\n",
       "      <td>0.594232</td>\n",
       "    </tr>\n",
       "    <tr>\n",
       "      <th>765</th>\n",
       "      <td>0.311151</td>\n",
       "      <td>0.592839</td>\n",
       "    </tr>\n",
       "  </tbody>\n",
       "</table>\n",
       "<p>392 rows × 2 columns</p>\n",
       "</div>"
      ],
      "text/plain": [
       "     age_boxcox_scaler  age_boxcox\n",
       "3            -1.484429    0.591234\n",
       "4             0.634773    0.593129\n",
       "6            -0.283363    0.592308\n",
       "8             1.657291    0.594043\n",
       "13            1.795811    0.594167\n",
       "..                 ...         ...\n",
       "753          -0.283363    0.592308\n",
       "755           0.960612    0.593420\n",
       "760          -1.184909    0.591502\n",
       "763           1.869018    0.594232\n",
       "765           0.311151    0.592839\n",
       "\n",
       "[392 rows x 2 columns]"
      ]
     },
     "execution_count": 76,
     "metadata": {},
     "output_type": "execute_result"
    }
   ],
   "source": [
    "age_boxcox_scaler = StandardScaler()\n",
    "age_boxcox_scaler.fit(standardize_df[['age_boxcox']])\n",
    "\n",
    "standardize_df['age_boxcox_scaler'] = age_boxcox_scaler.transform(standardize_df[['age_boxcox']])\n",
    "standardize_df[['age_boxcox_scaler', 'age_boxcox']]"
   ]
  },
  {
   "cell_type": "code",
   "execution_count": 77,
   "id": "df9e0969-1c48-42af-8dca-d843e0c16f0c",
   "metadata": {},
   "outputs": [
    {
     "data": {
      "image/png": "[encoded data removed]",
      "text/plain": [
       "<Figure size 432x288 with 1 Axes>"
      ]
     },
     "metadata": {
      "needs_background": "light"
     },
     "output_type": "display_data"
    },
    {
     "data": {
      "image/png": "[encoded data removed]",
      "text/plain": [
       "<Figure size 432x288 with 1 Axes>"
      ]
     },
     "metadata": {
      "needs_background": "light"
     },
     "output_type": "display_data"
    }
   ],
   "source": [
    "sns.histplot(standardize_df['age_boxcox_scaler'], kde=True);\n",
    "plt.show()\n",
    "standardize_df[['age_boxcox_scaler']].boxplot()\n",
    "plt.show()"
   ]
  },
  {
   "cell_type": "code",
   "execution_count": null,
   "id": "ecc189f3-eb88-41c7-92d4-4c0ae3181461",
   "metadata": {},
   "outputs": [],
   "source": []
  }
 ],
 "metadata": {
  "kernelspec": {
   "display_name": "Python 3 (ipykernel)",
   "language": "python",
   "name": "python3"
  },
  "language_info": {
   "codemirror_mode": {
    "name": "ipython",
    "version": 3
   },
   "file_extension": ".py",
   "mimetype": "text/x-python",
   "name": "python",
   "nbconvert_exporter": "python",
   "pygments_lexer": "ipython3",
   "version": "3.8.13"
  }
 },
 "nbformat": 4,
 "nbformat_minor": 5
}
